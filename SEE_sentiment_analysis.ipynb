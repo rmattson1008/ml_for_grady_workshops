{
  "nbformat": 4,
  "nbformat_minor": 0,
  "metadata": {
    "colab": {
      "provenance": [],
      "authorship_tag": "ABX9TyOScMURFm0zBVSR4KVgtH9g",
      "include_colab_link": true
    },
    "kernelspec": {
      "name": "python3",
      "display_name": "Python 3"
    },
    "language_info": {
      "name": "python"
    },
    "accelerator": "GPU",
    "gpuClass": "standard",
    "widgets": {
      "application/vnd.jupyter.widget-state+json": {
        "6718f51736ac4e1b92bc51bed73f0e13": {
          "model_module": "@jupyter-widgets/controls",
          "model_name": "HBoxModel",
          "model_module_version": "1.5.0",
          "state": {
            "_dom_classes": [],
            "_model_module": "@jupyter-widgets/controls",
            "_model_module_version": "1.5.0",
            "_model_name": "HBoxModel",
            "_view_count": null,
            "_view_module": "@jupyter-widgets/controls",
            "_view_module_version": "1.5.0",
            "_view_name": "HBoxView",
            "box_style": "",
            "children": [
              "IPY_MODEL_b42d767903af4554bab28e79d07a26ae",
              "IPY_MODEL_750b107dade443c6bfea7509758f2644",
              "IPY_MODEL_6ef7e010ff3645498ec2168283c99f60"
            ],
            "layout": "IPY_MODEL_5c55e6d774bb423cb4fe56369a0fb179"
          }
        },
        "b42d767903af4554bab28e79d07a26ae": {
          "model_module": "@jupyter-widgets/controls",
          "model_name": "HTMLModel",
          "model_module_version": "1.5.0",
          "state": {
            "_dom_classes": [],
            "_model_module": "@jupyter-widgets/controls",
            "_model_module_version": "1.5.0",
            "_model_name": "HTMLModel",
            "_view_count": null,
            "_view_module": "@jupyter-widgets/controls",
            "_view_module_version": "1.5.0",
            "_view_name": "HTMLView",
            "description": "",
            "description_tooltip": null,
            "layout": "IPY_MODEL_c75902b4a07540298a78ea6330d776d1",
            "placeholder": "​",
            "style": "IPY_MODEL_697f3d695e794889b133c173d9f30802",
            "value": "100%"
          }
        },
        "750b107dade443c6bfea7509758f2644": {
          "model_module": "@jupyter-widgets/controls",
          "model_name": "FloatProgressModel",
          "model_module_version": "1.5.0",
          "state": {
            "_dom_classes": [],
            "_model_module": "@jupyter-widgets/controls",
            "_model_module_version": "1.5.0",
            "_model_name": "FloatProgressModel",
            "_view_count": null,
            "_view_module": "@jupyter-widgets/controls",
            "_view_module_version": "1.5.0",
            "_view_name": "ProgressView",
            "bar_style": "success",
            "description": "",
            "description_tooltip": null,
            "layout": "IPY_MODEL_4abf0bff1526435d9e25131d2af551ff",
            "max": 596,
            "min": 0,
            "orientation": "horizontal",
            "style": "IPY_MODEL_2d682ce5033f48ad92a8d13f7366e8a1",
            "value": 596
          }
        },
        "6ef7e010ff3645498ec2168283c99f60": {
          "model_module": "@jupyter-widgets/controls",
          "model_name": "HTMLModel",
          "model_module_version": "1.5.0",
          "state": {
            "_dom_classes": [],
            "_model_module": "@jupyter-widgets/controls",
            "_model_module_version": "1.5.0",
            "_model_name": "HTMLModel",
            "_view_count": null,
            "_view_module": "@jupyter-widgets/controls",
            "_view_module_version": "1.5.0",
            "_view_name": "HTMLView",
            "description": "",
            "description_tooltip": null,
            "layout": "IPY_MODEL_ba47e5452a6b4844a4f45a3b0cc02f89",
            "placeholder": "​",
            "style": "IPY_MODEL_7e44dedc55394bd1b1caba3ad8244073",
            "value": " 596/596 [01:34&lt;00:00,  5.88it/s]"
          }
        },
        "5c55e6d774bb423cb4fe56369a0fb179": {
          "model_module": "@jupyter-widgets/base",
          "model_name": "LayoutModel",
          "model_module_version": "1.2.0",
          "state": {
            "_model_module": "@jupyter-widgets/base",
            "_model_module_version": "1.2.0",
            "_model_name": "LayoutModel",
            "_view_count": null,
            "_view_module": "@jupyter-widgets/base",
            "_view_module_version": "1.2.0",
            "_view_name": "LayoutView",
            "align_content": null,
            "align_items": null,
            "align_self": null,
            "border": null,
            "bottom": null,
            "display": null,
            "flex": null,
            "flex_flow": null,
            "grid_area": null,
            "grid_auto_columns": null,
            "grid_auto_flow": null,
            "grid_auto_rows": null,
            "grid_column": null,
            "grid_gap": null,
            "grid_row": null,
            "grid_template_areas": null,
            "grid_template_columns": null,
            "grid_template_rows": null,
            "height": null,
            "justify_content": null,
            "justify_items": null,
            "left": null,
            "margin": null,
            "max_height": null,
            "max_width": null,
            "min_height": null,
            "min_width": null,
            "object_fit": null,
            "object_position": null,
            "order": null,
            "overflow": null,
            "overflow_x": null,
            "overflow_y": null,
            "padding": null,
            "right": null,
            "top": null,
            "visibility": null,
            "width": null
          }
        },
        "c75902b4a07540298a78ea6330d776d1": {
          "model_module": "@jupyter-widgets/base",
          "model_name": "LayoutModel",
          "model_module_version": "1.2.0",
          "state": {
            "_model_module": "@jupyter-widgets/base",
            "_model_module_version": "1.2.0",
            "_model_name": "LayoutModel",
            "_view_count": null,
            "_view_module": "@jupyter-widgets/base",
            "_view_module_version": "1.2.0",
            "_view_name": "LayoutView",
            "align_content": null,
            "align_items": null,
            "align_self": null,
            "border": null,
            "bottom": null,
            "display": null,
            "flex": null,
            "flex_flow": null,
            "grid_area": null,
            "grid_auto_columns": null,
            "grid_auto_flow": null,
            "grid_auto_rows": null,
            "grid_column": null,
            "grid_gap": null,
            "grid_row": null,
            "grid_template_areas": null,
            "grid_template_columns": null,
            "grid_template_rows": null,
            "height": null,
            "justify_content": null,
            "justify_items": null,
            "left": null,
            "margin": null,
            "max_height": null,
            "max_width": null,
            "min_height": null,
            "min_width": null,
            "object_fit": null,
            "object_position": null,
            "order": null,
            "overflow": null,
            "overflow_x": null,
            "overflow_y": null,
            "padding": null,
            "right": null,
            "top": null,
            "visibility": null,
            "width": null
          }
        },
        "697f3d695e794889b133c173d9f30802": {
          "model_module": "@jupyter-widgets/controls",
          "model_name": "DescriptionStyleModel",
          "model_module_version": "1.5.0",
          "state": {
            "_model_module": "@jupyter-widgets/controls",
            "_model_module_version": "1.5.0",
            "_model_name": "DescriptionStyleModel",
            "_view_count": null,
            "_view_module": "@jupyter-widgets/base",
            "_view_module_version": "1.2.0",
            "_view_name": "StyleView",
            "description_width": ""
          }
        },
        "4abf0bff1526435d9e25131d2af551ff": {
          "model_module": "@jupyter-widgets/base",
          "model_name": "LayoutModel",
          "model_module_version": "1.2.0",
          "state": {
            "_model_module": "@jupyter-widgets/base",
            "_model_module_version": "1.2.0",
            "_model_name": "LayoutModel",
            "_view_count": null,
            "_view_module": "@jupyter-widgets/base",
            "_view_module_version": "1.2.0",
            "_view_name": "LayoutView",
            "align_content": null,
            "align_items": null,
            "align_self": null,
            "border": null,
            "bottom": null,
            "display": null,
            "flex": null,
            "flex_flow": null,
            "grid_area": null,
            "grid_auto_columns": null,
            "grid_auto_flow": null,
            "grid_auto_rows": null,
            "grid_column": null,
            "grid_gap": null,
            "grid_row": null,
            "grid_template_areas": null,
            "grid_template_columns": null,
            "grid_template_rows": null,
            "height": null,
            "justify_content": null,
            "justify_items": null,
            "left": null,
            "margin": null,
            "max_height": null,
            "max_width": null,
            "min_height": null,
            "min_width": null,
            "object_fit": null,
            "object_position": null,
            "order": null,
            "overflow": null,
            "overflow_x": null,
            "overflow_y": null,
            "padding": null,
            "right": null,
            "top": null,
            "visibility": null,
            "width": null
          }
        },
        "2d682ce5033f48ad92a8d13f7366e8a1": {
          "model_module": "@jupyter-widgets/controls",
          "model_name": "ProgressStyleModel",
          "model_module_version": "1.5.0",
          "state": {
            "_model_module": "@jupyter-widgets/controls",
            "_model_module_version": "1.5.0",
            "_model_name": "ProgressStyleModel",
            "_view_count": null,
            "_view_module": "@jupyter-widgets/base",
            "_view_module_version": "1.2.0",
            "_view_name": "StyleView",
            "bar_color": null,
            "description_width": ""
          }
        },
        "ba47e5452a6b4844a4f45a3b0cc02f89": {
          "model_module": "@jupyter-widgets/base",
          "model_name": "LayoutModel",
          "model_module_version": "1.2.0",
          "state": {
            "_model_module": "@jupyter-widgets/base",
            "_model_module_version": "1.2.0",
            "_model_name": "LayoutModel",
            "_view_count": null,
            "_view_module": "@jupyter-widgets/base",
            "_view_module_version": "1.2.0",
            "_view_name": "LayoutView",
            "align_content": null,
            "align_items": null,
            "align_self": null,
            "border": null,
            "bottom": null,
            "display": null,
            "flex": null,
            "flex_flow": null,
            "grid_area": null,
            "grid_auto_columns": null,
            "grid_auto_flow": null,
            "grid_auto_rows": null,
            "grid_column": null,
            "grid_gap": null,
            "grid_row": null,
            "grid_template_areas": null,
            "grid_template_columns": null,
            "grid_template_rows": null,
            "height": null,
            "justify_content": null,
            "justify_items": null,
            "left": null,
            "margin": null,
            "max_height": null,
            "max_width": null,
            "min_height": null,
            "min_width": null,
            "object_fit": null,
            "object_position": null,
            "order": null,
            "overflow": null,
            "overflow_x": null,
            "overflow_y": null,
            "padding": null,
            "right": null,
            "top": null,
            "visibility": null,
            "width": null
          }
        },
        "7e44dedc55394bd1b1caba3ad8244073": {
          "model_module": "@jupyter-widgets/controls",
          "model_name": "DescriptionStyleModel",
          "model_module_version": "1.5.0",
          "state": {
            "_model_module": "@jupyter-widgets/controls",
            "_model_module_version": "1.5.0",
            "_model_name": "DescriptionStyleModel",
            "_view_count": null,
            "_view_module": "@jupyter-widgets/base",
            "_view_module_version": "1.2.0",
            "_view_name": "StyleView",
            "description_width": ""
          }
        }
      }
    }
  },
  "cells": [
    {
      "cell_type": "markdown",
      "metadata": {
        "id": "view-in-github",
        "colab_type": "text"
      },
      "source": [
        "<a href=\"https://colab.research.google.com/github/rmattson1008/ml_for_grady_workshops/blob/draft/SEE_sentiment_analysis.ipynb\" target=\"_parent\"><img src=\"https://colab.research.google.com/assets/colab-badge.svg\" alt=\"Open In Colab\"/></a>"
      ]
    },
    {
      "cell_type": "markdown",
      "source": [
        "# Sentiment Analysis with Python\n",
        "Main goal: analyze some tweets!   \n",
        "Sub goal: get comfortable with common ML tools for python\n",
        "\n",
        "<!-- \n",
        "https://huggingface.co/cardiffnlp/twitter-roberta-base-sentiment?text=I+like+you.+I+love+you -->\n",
        "\n",
        "https://huggingface.co/cardiffnlp/twitter-roberta-base-sentiment-latest?text=Covid+cases+are+increasing+fast%21"
      ],
      "metadata": {
        "id": "k31mCmuomTgQ"
      }
    },
    {
      "cell_type": "markdown",
      "source": [
        "### Set up the environment\n",
        "Colab is hosting a workspace for us, and we need to fill it with python tools. Some of them are already added to the workspace, ready to import into the notebook, but some need to be installed first. \n",
        "\n",
        "Colab is wonderfult because you can run on google's servers, either gpu (for fast computation) or cpu (like your local computer). The only issue is since it's free, it occasionally kicks you off the gpu to make room for paying customers :( \n",
        "\n",
        "You can choose to work on google hosted servers or your own computer by clicking the dropdown where it says \"RAM\" in the top right corner."
      ],
      "metadata": {
        "id": "-XsDmDSmoGha"
      }
    },
    {
      "cell_type": "code",
      "source": [
        "# '!' means these commands will execute on the command line, making changes outside of the notebook. \n",
        "# !pip install -U -q PyDrive\n",
        "# !pip install -q xlrd\n",
        "!pip install transformers"
      ],
      "metadata": {
        "colab": {
          "base_uri": "https://localhost:8080/"
        },
        "id": "AjbYyANcm56d",
        "outputId": "4812a31c-b8d1-401e-d6c5-32d630b705dc"
      },
      "execution_count": null,
      "outputs": [
        {
          "output_type": "stream",
          "name": "stdout",
          "text": [
            "Looking in indexes: https://pypi.org/simple, https://us-python.pkg.dev/colab-wheels/public/simple/\n",
            "Collecting transformers\n",
            "  Downloading transformers-4.24.0-py3-none-any.whl (5.5 MB)\n",
            "\u001b[K     |████████████████████████████████| 5.5 MB 29.2 MB/s \n",
            "\u001b[?25hRequirement already satisfied: pyyaml>=5.1 in /usr/local/lib/python3.7/dist-packages (from transformers) (6.0)\n",
            "Requirement already satisfied: packaging>=20.0 in /usr/local/lib/python3.7/dist-packages (from transformers) (21.3)\n",
            "Collecting huggingface-hub<1.0,>=0.10.0\n",
            "  Downloading huggingface_hub-0.11.0-py3-none-any.whl (182 kB)\n",
            "\u001b[K     |████████████████████████████████| 182 kB 67.8 MB/s \n",
            "\u001b[?25hRequirement already satisfied: filelock in /usr/local/lib/python3.7/dist-packages (from transformers) (3.8.0)\n",
            "Requirement already satisfied: regex!=2019.12.17 in /usr/local/lib/python3.7/dist-packages (from transformers) (2022.6.2)\n",
            "Requirement already satisfied: importlib-metadata in /usr/local/lib/python3.7/dist-packages (from transformers) (4.13.0)\n",
            "Collecting tokenizers!=0.11.3,<0.14,>=0.11.1\n",
            "  Downloading tokenizers-0.13.2-cp37-cp37m-manylinux_2_17_x86_64.manylinux2014_x86_64.whl (7.6 MB)\n",
            "\u001b[K     |████████████████████████████████| 7.6 MB 40.6 MB/s \n",
            "\u001b[?25hRequirement already satisfied: numpy>=1.17 in /usr/local/lib/python3.7/dist-packages (from transformers) (1.21.6)\n",
            "Requirement already satisfied: requests in /usr/local/lib/python3.7/dist-packages (from transformers) (2.23.0)\n",
            "Requirement already satisfied: tqdm>=4.27 in /usr/local/lib/python3.7/dist-packages (from transformers) (4.64.1)\n",
            "Requirement already satisfied: typing-extensions>=3.7.4.3 in /usr/local/lib/python3.7/dist-packages (from huggingface-hub<1.0,>=0.10.0->transformers) (4.1.1)\n",
            "Requirement already satisfied: pyparsing!=3.0.5,>=2.0.2 in /usr/local/lib/python3.7/dist-packages (from packaging>=20.0->transformers) (3.0.9)\n",
            "Requirement already satisfied: zipp>=0.5 in /usr/local/lib/python3.7/dist-packages (from importlib-metadata->transformers) (3.10.0)\n",
            "Requirement already satisfied: urllib3!=1.25.0,!=1.25.1,<1.26,>=1.21.1 in /usr/local/lib/python3.7/dist-packages (from requests->transformers) (1.24.3)\n",
            "Requirement already satisfied: chardet<4,>=3.0.2 in /usr/local/lib/python3.7/dist-packages (from requests->transformers) (3.0.4)\n",
            "Requirement already satisfied: idna<3,>=2.5 in /usr/local/lib/python3.7/dist-packages (from requests->transformers) (2.10)\n",
            "Requirement already satisfied: certifi>=2017.4.17 in /usr/local/lib/python3.7/dist-packages (from requests->transformers) (2022.9.24)\n",
            "Installing collected packages: tokenizers, huggingface-hub, transformers\n",
            "Successfully installed huggingface-hub-0.11.0 tokenizers-0.13.2 transformers-4.24.0\n"
          ]
        }
      ]
    },
    {
      "cell_type": "code",
      "source": [
        "# importing miscelaneaous packages \n",
        "import numpy as np # fast manipulation of multidimensional arrays\n",
        "\n",
        "from tqdm.notebook import tqdm as progress_bar # a little vizualization of how fast a loop is running\n",
        "from scipy.special import softmax\n",
        "import csv\n",
        "import urllib.request\n",
        "from datetime import datetime\n",
        "from matplotlib.dates import date2num\n",
        "\n",
        "# more packages, tools for getting to google drive\n",
        "from pydrive.auth import GoogleAuth\n",
        "from pydrive.drive import GoogleDrive\n",
        "from google.colab import auth\n",
        "from oauth2client.client import GoogleCredentials"
      ],
      "metadata": {
        "id": "9PYEMqpAo6De"
      },
      "execution_count": null,
      "outputs": []
    },
    {
      "cell_type": "markdown",
      "source": [
        "### Load Data\n",
        "We will load some tweets from a shared google drive file, which will require us to sign into our google drive accounts. \n",
        "[backup link to shared file](https://docs.google.com/spreadsheets/d/1t_a3Xotu8IsTaQ1b14FYiNf7xGJeviN2/edit?usp=sharing&ouid=104582923093703409002&rtpof=true&sd=true)\n",
        "\n",
        "<!-- # id = '1prY6_BgwYrUHCSJ0DYAB4KA7HcjTdDtU' -->\n",
        "\n",
        "*key python package: pandas*"
      ],
      "metadata": {
        "id": "a35lR-nimaDQ"
      }
    },
    {
      "cell_type": "code",
      "source": [
        "import pandas as pd # basically the excel of python"
      ],
      "metadata": {
        "id": "1kV2fpZMzLvS"
      },
      "execution_count": null,
      "outputs": []
    },
    {
      "cell_type": "code",
      "source": [
        "auth.authenticate_user()\n",
        "gauth = GoogleAuth()\n",
        "gauth.credentials = GoogleCredentials.get_application_default()\n",
        "drive = GoogleDrive(gauth)\n",
        "\n",
        "# I got this id from the link to the shared data\n",
        "id = '1t_a3Xotu8IsTaQ1b14FYiNf7xGJeviN2'"
      ],
      "metadata": {
        "id": "29B6tbLCnJz4"
      },
      "execution_count": null,
      "outputs": []
    },
    {
      "cell_type": "markdown",
      "source": [],
      "metadata": {
        "id": "WcS4V02p0HJV"
      }
    },
    {
      "cell_type": "code",
      "source": [
        "# this will take a little bit of time\n",
        "downloaded = drive.CreateFile({'id':id}) \n",
        "downloaded.GetContentFile('twitter_data_full.xlsx')\n",
        "print(\"Added file to workspace\")\n",
        "\n",
        "df = pd.read_excel('twitter_data_full.xlsx')\n",
        "print(\"Loaded file to notebook as a dataframe\")"
      ],
      "metadata": {
        "colab": {
          "base_uri": "https://localhost:8080/"
        },
        "id": "3F8-myPanJ8G",
        "outputId": "42f0e573-27fd-4c34-86c2-22f5d469bb03"
      },
      "execution_count": null,
      "outputs": [
        {
          "output_type": "stream",
          "name": "stdout",
          "text": [
            "Added file to workspace\n",
            "Loaded file to notebook as a dataframe\n"
          ]
        }
      ]
    },
    {
      "cell_type": "code",
      "source": [
        "df.head(5) # lets look at the first five data samples"
      ],
      "metadata": {
        "colab": {
          "base_uri": "https://localhost:8080/",
          "height": 612
        },
        "id": "DzQPQ7XqvRgV",
        "outputId": "6e0e0d24-f926-4d2f-9f38-17c3840e0f1a"
      },
      "execution_count": null,
      "outputs": [
        {
          "output_type": "execute_result",
          "data": {
            "text/plain": [
              "                      Date                                          Full Text  \\\n",
              "0  2022-10-01 23:40:00.000  In Colorado Senate race, Michael Bennet still ...   \n",
              "1  2022-10-01 23:27:28.000  COMING UP on @WRAL at 7:30pm: We sit down with...   \n",
              "2  2022-10-01 23:16:38.000  Summaries of high-profile Supreme Court cases:...   \n",
              "3  2022-10-01 23:05:12.000  Abortion Icon Emma Bonino Trounced in Italian ...   \n",
              "4  2022-10-01 22:02:12.000  💥38 DAYS UNTIL #ELECTIONDAY MIDTERMS💥 WHAT R U...   \n",
              "\n",
              "                                                 Url Sentiment Emotion  \\\n",
              "0  http://twitter.com/Prison_Health/statuses/1576...  negative     NaN   \n",
              "1  http://twitter.com/BryanRAnderson/statuses/157...   neutral     NaN   \n",
              "2  http://twitter.com/January20th49/statuses/1576...   neutral    Fear   \n",
              "3  http://twitter.com/UsBurning/statuses/15763475...   neutral     NaN   \n",
              "4  http://twitter.com/LeviFetterman/statuses/1576...   neutral     NaN   \n",
              "\n",
              "  Page Type Language Country Code Continent Code      Continent  ...  \\\n",
              "0   twitter       en          USA  NORTH AMERICA  North America  ...   \n",
              "1   twitter       en          USA  NORTH AMERICA  North America  ...   \n",
              "2   twitter       en          USA  NORTH AMERICA  North America  ...   \n",
              "3   twitter       en          USA  NORTH AMERICA  North America  ...   \n",
              "4   twitter       en          USA  NORTH AMERICA  North America  ...   \n",
              "\n",
              "               Mentioned Authors Twitter Followers Twitter Following  \\\n",
              "0                            NaN           19711.0            2715.0   \n",
              "1  @wral, @bohines, @wileynickel            3832.0            1103.0   \n",
              "2                            NaN              39.0             300.0   \n",
              "3                            NaN             360.0              34.0   \n",
              "4                            NaN           33774.0            1702.0   \n",
              "\n",
              "  Twitter Reply Count Twitter Retweets Twitter Tweets Twitter Verified  \\\n",
              "0                 0.0              0.0       441744.0            False   \n",
              "1                 2.0              4.0        17642.0             True   \n",
              "2                 0.0              1.0         5523.0            False   \n",
              "3                 0.0              0.0        23157.0            False   \n",
              "4                 1.0             10.0        49930.0            False   \n",
              "\n",
              "  Reach (new) Twitter Likes                                       cleaned_text  \n",
              "0      7325.0           NaN  in colorado senate race, michael bennet still ...  \n",
              "1     13263.0           NaN  coming up on  at 7:30pm: we sit down with  and...  \n",
              "2         0.0           NaN  summaries of high-profile supreme court cases:...  \n",
              "3         0.0           NaN  abortion icon emma bonino trounced in italian ...  \n",
              "4     16039.0           NaN  💥38 days until  midterms💥 what r u doing for d...  \n",
              "\n",
              "[5 rows x 33 columns]"
            ],
            "text/html": [
              "\n",
              "  <div id=\"df-87dcc9e1-0224-4eef-bc8b-ac87ead7dee4\">\n",
              "    <div class=\"colab-df-container\">\n",
              "      <div>\n",
              "<style scoped>\n",
              "    .dataframe tbody tr th:only-of-type {\n",
              "        vertical-align: middle;\n",
              "    }\n",
              "\n",
              "    .dataframe tbody tr th {\n",
              "        vertical-align: top;\n",
              "    }\n",
              "\n",
              "    .dataframe thead th {\n",
              "        text-align: right;\n",
              "    }\n",
              "</style>\n",
              "<table border=\"1\" class=\"dataframe\">\n",
              "  <thead>\n",
              "    <tr style=\"text-align: right;\">\n",
              "      <th></th>\n",
              "      <th>Date</th>\n",
              "      <th>Full Text</th>\n",
              "      <th>Url</th>\n",
              "      <th>Sentiment</th>\n",
              "      <th>Emotion</th>\n",
              "      <th>Page Type</th>\n",
              "      <th>Language</th>\n",
              "      <th>Country Code</th>\n",
              "      <th>Continent Code</th>\n",
              "      <th>Continent</th>\n",
              "      <th>...</th>\n",
              "      <th>Mentioned Authors</th>\n",
              "      <th>Twitter Followers</th>\n",
              "      <th>Twitter Following</th>\n",
              "      <th>Twitter Reply Count</th>\n",
              "      <th>Twitter Retweets</th>\n",
              "      <th>Twitter Tweets</th>\n",
              "      <th>Twitter Verified</th>\n",
              "      <th>Reach (new)</th>\n",
              "      <th>Twitter Likes</th>\n",
              "      <th>cleaned_text</th>\n",
              "    </tr>\n",
              "  </thead>\n",
              "  <tbody>\n",
              "    <tr>\n",
              "      <th>0</th>\n",
              "      <td>2022-10-01 23:40:00.000</td>\n",
              "      <td>In Colorado Senate race, Michael Bennet still ...</td>\n",
              "      <td>http://twitter.com/Prison_Health/statuses/1576...</td>\n",
              "      <td>negative</td>\n",
              "      <td>NaN</td>\n",
              "      <td>twitter</td>\n",
              "      <td>en</td>\n",
              "      <td>USA</td>\n",
              "      <td>NORTH AMERICA</td>\n",
              "      <td>North America</td>\n",
              "      <td>...</td>\n",
              "      <td>NaN</td>\n",
              "      <td>19711.0</td>\n",
              "      <td>2715.0</td>\n",
              "      <td>0.0</td>\n",
              "      <td>0.0</td>\n",
              "      <td>441744.0</td>\n",
              "      <td>False</td>\n",
              "      <td>7325.0</td>\n",
              "      <td>NaN</td>\n",
              "      <td>in colorado senate race, michael bennet still ...</td>\n",
              "    </tr>\n",
              "    <tr>\n",
              "      <th>1</th>\n",
              "      <td>2022-10-01 23:27:28.000</td>\n",
              "      <td>COMING UP on @WRAL at 7:30pm: We sit down with...</td>\n",
              "      <td>http://twitter.com/BryanRAnderson/statuses/157...</td>\n",
              "      <td>neutral</td>\n",
              "      <td>NaN</td>\n",
              "      <td>twitter</td>\n",
              "      <td>en</td>\n",
              "      <td>USA</td>\n",
              "      <td>NORTH AMERICA</td>\n",
              "      <td>North America</td>\n",
              "      <td>...</td>\n",
              "      <td>@wral, @bohines, @wileynickel</td>\n",
              "      <td>3832.0</td>\n",
              "      <td>1103.0</td>\n",
              "      <td>2.0</td>\n",
              "      <td>4.0</td>\n",
              "      <td>17642.0</td>\n",
              "      <td>True</td>\n",
              "      <td>13263.0</td>\n",
              "      <td>NaN</td>\n",
              "      <td>coming up on  at 7:30pm: we sit down with  and...</td>\n",
              "    </tr>\n",
              "    <tr>\n",
              "      <th>2</th>\n",
              "      <td>2022-10-01 23:16:38.000</td>\n",
              "      <td>Summaries of high-profile Supreme Court cases:...</td>\n",
              "      <td>http://twitter.com/January20th49/statuses/1576...</td>\n",
              "      <td>neutral</td>\n",
              "      <td>Fear</td>\n",
              "      <td>twitter</td>\n",
              "      <td>en</td>\n",
              "      <td>USA</td>\n",
              "      <td>NORTH AMERICA</td>\n",
              "      <td>North America</td>\n",
              "      <td>...</td>\n",
              "      <td>NaN</td>\n",
              "      <td>39.0</td>\n",
              "      <td>300.0</td>\n",
              "      <td>0.0</td>\n",
              "      <td>1.0</td>\n",
              "      <td>5523.0</td>\n",
              "      <td>False</td>\n",
              "      <td>0.0</td>\n",
              "      <td>NaN</td>\n",
              "      <td>summaries of high-profile supreme court cases:...</td>\n",
              "    </tr>\n",
              "    <tr>\n",
              "      <th>3</th>\n",
              "      <td>2022-10-01 23:05:12.000</td>\n",
              "      <td>Abortion Icon Emma Bonino Trounced in Italian ...</td>\n",
              "      <td>http://twitter.com/UsBurning/statuses/15763475...</td>\n",
              "      <td>neutral</td>\n",
              "      <td>NaN</td>\n",
              "      <td>twitter</td>\n",
              "      <td>en</td>\n",
              "      <td>USA</td>\n",
              "      <td>NORTH AMERICA</td>\n",
              "      <td>North America</td>\n",
              "      <td>...</td>\n",
              "      <td>NaN</td>\n",
              "      <td>360.0</td>\n",
              "      <td>34.0</td>\n",
              "      <td>0.0</td>\n",
              "      <td>0.0</td>\n",
              "      <td>23157.0</td>\n",
              "      <td>False</td>\n",
              "      <td>0.0</td>\n",
              "      <td>NaN</td>\n",
              "      <td>abortion icon emma bonino trounced in italian ...</td>\n",
              "    </tr>\n",
              "    <tr>\n",
              "      <th>4</th>\n",
              "      <td>2022-10-01 22:02:12.000</td>\n",
              "      <td>💥38 DAYS UNTIL #ELECTIONDAY MIDTERMS💥 WHAT R U...</td>\n",
              "      <td>http://twitter.com/LeviFetterman/statuses/1576...</td>\n",
              "      <td>neutral</td>\n",
              "      <td>NaN</td>\n",
              "      <td>twitter</td>\n",
              "      <td>en</td>\n",
              "      <td>USA</td>\n",
              "      <td>NORTH AMERICA</td>\n",
              "      <td>North America</td>\n",
              "      <td>...</td>\n",
              "      <td>NaN</td>\n",
              "      <td>33774.0</td>\n",
              "      <td>1702.0</td>\n",
              "      <td>1.0</td>\n",
              "      <td>10.0</td>\n",
              "      <td>49930.0</td>\n",
              "      <td>False</td>\n",
              "      <td>16039.0</td>\n",
              "      <td>NaN</td>\n",
              "      <td>💥38 days until  midterms💥 what r u doing for d...</td>\n",
              "    </tr>\n",
              "  </tbody>\n",
              "</table>\n",
              "<p>5 rows × 33 columns</p>\n",
              "</div>\n",
              "      <button class=\"colab-df-convert\" onclick=\"convertToInteractive('df-87dcc9e1-0224-4eef-bc8b-ac87ead7dee4')\"\n",
              "              title=\"Convert this dataframe to an interactive table.\"\n",
              "              style=\"display:none;\">\n",
              "        \n",
              "  <svg xmlns=\"http://www.w3.org/2000/svg\" height=\"24px\"viewBox=\"0 0 24 24\"\n",
              "       width=\"24px\">\n",
              "    <path d=\"M0 0h24v24H0V0z\" fill=\"none\"/>\n",
              "    <path d=\"M18.56 5.44l.94 2.06.94-2.06 2.06-.94-2.06-.94-.94-2.06-.94 2.06-2.06.94zm-11 1L8.5 8.5l.94-2.06 2.06-.94-2.06-.94L8.5 2.5l-.94 2.06-2.06.94zm10 10l.94 2.06.94-2.06 2.06-.94-2.06-.94-.94-2.06-.94 2.06-2.06.94z\"/><path d=\"M17.41 7.96l-1.37-1.37c-.4-.4-.92-.59-1.43-.59-.52 0-1.04.2-1.43.59L10.3 9.45l-7.72 7.72c-.78.78-.78 2.05 0 2.83L4 21.41c.39.39.9.59 1.41.59.51 0 1.02-.2 1.41-.59l7.78-7.78 2.81-2.81c.8-.78.8-2.07 0-2.86zM5.41 20L4 18.59l7.72-7.72 1.47 1.35L5.41 20z\"/>\n",
              "  </svg>\n",
              "      </button>\n",
              "      \n",
              "  <style>\n",
              "    .colab-df-container {\n",
              "      display:flex;\n",
              "      flex-wrap:wrap;\n",
              "      gap: 12px;\n",
              "    }\n",
              "\n",
              "    .colab-df-convert {\n",
              "      background-color: #E8F0FE;\n",
              "      border: none;\n",
              "      border-radius: 50%;\n",
              "      cursor: pointer;\n",
              "      display: none;\n",
              "      fill: #1967D2;\n",
              "      height: 32px;\n",
              "      padding: 0 0 0 0;\n",
              "      width: 32px;\n",
              "    }\n",
              "\n",
              "    .colab-df-convert:hover {\n",
              "      background-color: #E2EBFA;\n",
              "      box-shadow: 0px 1px 2px rgba(60, 64, 67, 0.3), 0px 1px 3px 1px rgba(60, 64, 67, 0.15);\n",
              "      fill: #174EA6;\n",
              "    }\n",
              "\n",
              "    [theme=dark] .colab-df-convert {\n",
              "      background-color: #3B4455;\n",
              "      fill: #D2E3FC;\n",
              "    }\n",
              "\n",
              "    [theme=dark] .colab-df-convert:hover {\n",
              "      background-color: #434B5C;\n",
              "      box-shadow: 0px 1px 3px 1px rgba(0, 0, 0, 0.15);\n",
              "      filter: drop-shadow(0px 1px 2px rgba(0, 0, 0, 0.3));\n",
              "      fill: #FFFFFF;\n",
              "    }\n",
              "  </style>\n",
              "\n",
              "      <script>\n",
              "        const buttonEl =\n",
              "          document.querySelector('#df-87dcc9e1-0224-4eef-bc8b-ac87ead7dee4 button.colab-df-convert');\n",
              "        buttonEl.style.display =\n",
              "          google.colab.kernel.accessAllowed ? 'block' : 'none';\n",
              "\n",
              "        async function convertToInteractive(key) {\n",
              "          const element = document.querySelector('#df-87dcc9e1-0224-4eef-bc8b-ac87ead7dee4');\n",
              "          const dataTable =\n",
              "            await google.colab.kernel.invokeFunction('convertToInteractive',\n",
              "                                                     [key], {});\n",
              "          if (!dataTable) return;\n",
              "\n",
              "          const docLinkHtml = 'Like what you see? Visit the ' +\n",
              "            '<a target=\"_blank\" href=https://colab.research.google.com/notebooks/data_table.ipynb>data table notebook</a>'\n",
              "            + ' to learn more about interactive tables.';\n",
              "          element.innerHTML = '';\n",
              "          dataTable['output_type'] = 'display_data';\n",
              "          await google.colab.output.renderOutput(dataTable, element);\n",
              "          const docLink = document.createElement('div');\n",
              "          docLink.innerHTML = docLinkHtml;\n",
              "          element.appendChild(docLink);\n",
              "        }\n",
              "      </script>\n",
              "    </div>\n",
              "  </div>\n",
              "  "
            ]
          },
          "metadata": {},
          "execution_count": 64
        }
      ]
    },
    {
      "cell_type": "markdown",
      "source": [
        "### Clean Data\n",
        "Gameplan: make functions that cleans one tweet. Then apply this function to every tweet in our dataframe.\n",
        "\n",
        "[using regex to remove hashtags](https://catriscode.com/2021/03/02/extracting-or-removing-mentions-and-hashtags-in-tweets-using-python/)   \n",
        "[regex cheatsheet](https://www.interviewbit.com/regex-cheat-sheet/)\n",
        "\n",
        "\n",
        "*key python package: regex*"
      ],
      "metadata": {
        "id": "mLqW4bmjmaQ_"
      }
    },
    {
      "cell_type": "code",
      "source": [
        "import re # search through and clean text"
      ],
      "metadata": {
        "id": "f5hgX_MczKVD"
      },
      "execution_count": null,
      "outputs": []
    },
    {
      "cell_type": "code",
      "source": [
        "def clean(tweet):\n",
        "  # remove mentions\n",
        "  # remove hashtags\n",
        "  tweet = tweet.lower()\n",
        "\n",
        "  tweet = re.sub(\"@[A-Za-z0-9_]+\", \"\", tweet)\n",
        "  tweet = re.sub(\"#[A-Za-z0-9_]+\", \"\", tweet)\n",
        "  temp = re.sub(r\"http\\S+\", \"\", temp)\n",
        "\n",
        "  return tweet"
      ],
      "metadata": {
        "id": "vg5bpKqmqPWz"
      },
      "execution_count": null,
      "outputs": []
    },
    {
      "cell_type": "code",
      "source": [
        "df['cleaned_text'] = df['Full Text'].apply(clean)"
      ],
      "metadata": {
        "id": "-R9sMxgOq21h"
      },
      "execution_count": null,
      "outputs": []
    },
    {
      "cell_type": "markdown",
      "source": [
        "### Embed Tweets\n",
        "We will load up a pretrained model to our workspace. This model will first tokenize tweets, then map tweets to an embedding space where similar words are near to each other. Then the model will classify each tweet into \"positive\", \"negative\", or \"neutral\" data. \n",
        "\n",
        "This model was trained on hand-labeled tweets until it reach a high score on the training task, so we can trust it to be pretty good as long as we only use it on tweet-like data.\n",
        "\n",
        "*key python package: transformers by Hugging Face*   \n",
        "[Hugging Face model repository](https://huggingface.co/models)\n",
        "\n",
        "[our model](https://huggingface.co/cardiffnlp/twitter-roberta-base-sentiment-latest?text=Covid+cases+are+increasing+fast%21)\n",
        "\n",
        "[how large language models work (specifically chapter 2 but all chapters are good)](https://www.pinecone.io/learn/sentence-embeddings/)\n"
      ],
      "metadata": {
        "id": "_giaYagdmaZx"
      }
    },
    {
      "cell_type": "code",
      "source": [
        "# huggingface's tools for pretrained language models\n",
        "from transformers import AutoModelForSequenceClassification\n",
        "from transformers import TFAutoModelForSequenceClassification\n",
        "from transformers import AutoTokenizer"
      ],
      "metadata": {
        "id": "K5-0gma1y_sI"
      },
      "execution_count": null,
      "outputs": []
    },
    {
      "cell_type": "code",
      "source": [
        "MODEL = f\"cardiffnlp/twitter-roberta-base-sentiment-latest\" \n",
        "# MODEL = f\"cardiffnlp/twitter-xlm-roberta-base-sentiment\" # for multilingual embedding\n",
        "\n",
        "tokenizer = AutoTokenizer.from_pretrained(MODEL)\n",
        "\n",
        "# you can choose from many tokenizing options as well\n",
        "# tokenizer = AutoTokenizer.from_pretrained('roberta-base')\n",
        "\n",
        "model = AutoModelForSequenceClassification.from_pretrained(MODEL)\n",
        "model.save_pretrained(MODEL)\n",
        "\n",
        "labels = [\"negative\", \"neutral\", \"positive\"]"
      ],
      "metadata": {
        "id": "gmIx0lM-uxVH"
      },
      "execution_count": null,
      "outputs": []
    },
    {
      "cell_type": "markdown",
      "source": [
        "#### Test a few sample sentences\n",
        "\n",
        "Sentiment analysis has its limits. When it fails, it fails silently."
      ],
      "metadata": {
        "id": "hsZF6vFLuT0N"
      }
    },
    {
      "cell_type": "code",
      "source": [
        "# run this cell don't worry about it\n",
        "def print_scores(text):\n",
        "  \"\"\"a function to print out sentiment scores for one text sample in a pretty way\"\"\"\n",
        "  print(text)\n",
        "  encoded_input = tokenizer(text, return_tensors='pt')\n",
        "  output = model(**encoded_input)\n",
        "  scores = output[0][0].detach().numpy()\n",
        "  scores = softmax(scores)\n",
        "\n",
        "  ranking = np.argsort(scores)\n",
        "  ranking = ranking[::-1]\n",
        "  for i in range(scores.shape[0]):\n",
        "    l = labels[ranking[i]]\n",
        "    s = scores[ranking[i]]\n",
        "    print(f\"{i+1}) {l} {np.round(float(s), 4)}\")\n",
        "  print()\n",
        "  return "
      ],
      "metadata": {
        "id": "ea0jteDoz_lX"
      },
      "execution_count": null,
      "outputs": []
    },
    {
      "cell_type": "code",
      "source": [
        "# let's test a few sentences\n",
        "print_scores(\"I ❤️ u\")\n",
        "print_scores(\"I love you\")\n",
        "print_scores(\"I love you but\")"
      ],
      "metadata": {
        "id": "IA5xVp2I1XiV",
        "colab": {
          "base_uri": "https://localhost:8080/"
        },
        "outputId": "0780edbd-fff8-4db6-eb9c-8c007f383187"
      },
      "execution_count": null,
      "outputs": [
        {
          "output_type": "stream",
          "name": "stdout",
          "text": [
            "I ❤️ u\n",
            "1) positive 0.935\n",
            "2) neutral 0.0585\n",
            "3) negative 0.0064\n",
            "\n",
            "I love you\n",
            "1) positive 0.8595\n",
            "2) neutral 0.1224\n",
            "3) negative 0.0181\n",
            "\n",
            "I love you but\n",
            "1) positive 0.4558\n",
            "2) neutral 0.4319\n",
            "3) negative 0.1123\n",
            "\n"
          ]
        }
      ]
    },
    {
      "cell_type": "code",
      "source": [
        "# what about hard sentiment questions?\n",
        "# constrast\n",
        "print_scores(\"The weather was terrible, but the hike was amazing!\")\n",
        "# sarcasm\n",
        "print_scores(\"I’m so happy the plane is delayed.\")"
      ],
      "metadata": {
        "colab": {
          "base_uri": "https://localhost:8080/"
        },
        "id": "GnnRLdMDBxic",
        "outputId": "e81a12f2-8488-429a-b62e-9c0fa4dc1860"
      },
      "execution_count": null,
      "outputs": [
        {
          "output_type": "stream",
          "name": "stdout",
          "text": [
            "The weather was terrible, but the hike was amazing!\n",
            "1) positive 0.7476\n",
            "2) negative 0.1333\n",
            "3) neutral 0.119\n",
            "\n",
            "I’m so happy the plane is delayed.\n",
            "1) positive 0.8312\n",
            "2) neutral 0.1096\n",
            "3) negative 0.0592\n",
            "\n"
          ]
        }
      ]
    },
    {
      "cell_type": "code",
      "source": [
        "# try your own sentence\n",
        "print_scores(\"\")"
      ],
      "metadata": {
        "id": "d1kCVZNUFN29",
        "colab": {
          "base_uri": "https://localhost:8080/"
        },
        "outputId": "3da42e81-b85a-4efc-9711-02a836308783"
      },
      "execution_count": null,
      "outputs": [
        {
          "output_type": "stream",
          "name": "stdout",
          "text": [
            "\n",
            "1) positive 0.4013\n",
            "2) neutral 0.3731\n",
            "3) negative 0.2256\n",
            "\n"
          ]
        }
      ]
    },
    {
      "cell_type": "markdown",
      "source": [
        "#### Apply roberta to tweets the slow way:\n",
        "Getting scores one at a time by traversing through a dataframe sequentially"
      ],
      "metadata": {
        "id": "_NkInpBf3qdE"
      }
    },
    {
      "cell_type": "code",
      "source": [
        "def get_score(tweet):\n",
        "  \"get the sentiment scores for a tweet\"\n",
        "  encoded_input = tokenizer(tweet, return_tensors='pt')\n",
        "  output = model(**encoded_input)\n",
        "  scores = output[0][0].detach().numpy()\n",
        "  scores = softmax(scores)\n",
        "  return scores"
      ],
      "metadata": {
        "id": "6Q7ap2mQFY67"
      },
      "execution_count": null,
      "outputs": []
    },
    {
      "cell_type": "code",
      "source": [
        "# honestly way too slow - don't bother to run this code on all the tweets\n",
        "model = model.to('cpu')\n",
        "sentiments = df[:50].apply(lambda row: get_score(row.cleaned_text), axis='columns', result_type='expand').to_numpy()"
      ],
      "metadata": {
        "id": "O5oUHHR7wJh9"
      },
      "execution_count": null,
      "outputs": []
    },
    {
      "cell_type": "code",
      "source": [
        "sentiment_df =  pd.DataFrame(sentiments, columns=labels)\n",
        "sentiment_df['Full Text'] = df['Full Text'][:50]\n",
        "sentiment_df['cleaned_text'] = df['cleaned_text'][:50]\n",
        "sentiment_df.head(10)"
      ],
      "metadata": {
        "colab": {
          "base_uri": "https://localhost:8080/",
          "height": 494
        },
        "id": "cSp3xZSh34kb",
        "outputId": "036cd2e5-d9eb-4b1b-bab8-eb33d2187959"
      },
      "execution_count": null,
      "outputs": [
        {
          "output_type": "execute_result",
          "data": {
            "text/plain": [
              "   negative   neutral  positive  \\\n",
              "0  0.030664  0.899153  0.070183   \n",
              "1  0.011117  0.952506  0.036376   \n",
              "2  0.022494  0.936890  0.040616   \n",
              "3  0.300519  0.663301  0.036179   \n",
              "4  0.024535  0.679589  0.295876   \n",
              "5  0.831015  0.156397  0.012589   \n",
              "6  0.320765  0.584097  0.095138   \n",
              "7  0.157585  0.822115  0.020301   \n",
              "8  0.692373  0.290198  0.017430   \n",
              "9  0.543155  0.445710  0.011134   \n",
              "\n",
              "                                           Full Text  \\\n",
              "0  In Colorado Senate race, Michael Bennet still ...   \n",
              "1  COMING UP on @WRAL at 7:30pm: We sit down with...   \n",
              "2  Summaries of high-profile Supreme Court cases:...   \n",
              "3  Abortion Icon Emma Bonino Trounced in Italian ...   \n",
              "4  💥38 DAYS UNTIL #ELECTIONDAY MIDTERMS💥 WHAT R U...   \n",
              "5  @juliaioffe Is it worse to have a POTUS who gl...   \n",
              "6  Everyone eligible to vote should be allowed to...   \n",
              "7  Abbott and O’Rourke clash on immigration, guns...   \n",
              "8  Majority of Americans support sending illegal ...   \n",
              "9  Barnstable County Sheriff Election And Immigra...   \n",
              "\n",
              "                                        cleaned_text  \n",
              "0  in colorado senate race, michael bennet still ...  \n",
              "1  coming up on  at 7:30pm: we sit down with  and...  \n",
              "2  summaries of high-profile supreme court cases:...  \n",
              "3  abortion icon emma bonino trounced in italian ...  \n",
              "4  💥38 days until  midterms💥 what r u doing for d...  \n",
              "5   is it worse to have a potus who glibly says h...  \n",
              "6  everyone eligible to vote should be allowed to...  \n",
              "7  abbott and o’rourke clash on immigration, guns...  \n",
              "8  majority of americans support sending illegal ...  \n",
              "9  barnstable county sheriff election and immigra...  "
            ],
            "text/html": [
              "\n",
              "  <div id=\"df-8fb4f095-4fa0-4c02-b576-430c703c93d0\">\n",
              "    <div class=\"colab-df-container\">\n",
              "      <div>\n",
              "<style scoped>\n",
              "    .dataframe tbody tr th:only-of-type {\n",
              "        vertical-align: middle;\n",
              "    }\n",
              "\n",
              "    .dataframe tbody tr th {\n",
              "        vertical-align: top;\n",
              "    }\n",
              "\n",
              "    .dataframe thead th {\n",
              "        text-align: right;\n",
              "    }\n",
              "</style>\n",
              "<table border=\"1\" class=\"dataframe\">\n",
              "  <thead>\n",
              "    <tr style=\"text-align: right;\">\n",
              "      <th></th>\n",
              "      <th>negative</th>\n",
              "      <th>neutral</th>\n",
              "      <th>positive</th>\n",
              "      <th>Full Text</th>\n",
              "      <th>cleaned_text</th>\n",
              "    </tr>\n",
              "  </thead>\n",
              "  <tbody>\n",
              "    <tr>\n",
              "      <th>0</th>\n",
              "      <td>0.030664</td>\n",
              "      <td>0.899153</td>\n",
              "      <td>0.070183</td>\n",
              "      <td>In Colorado Senate race, Michael Bennet still ...</td>\n",
              "      <td>in colorado senate race, michael bennet still ...</td>\n",
              "    </tr>\n",
              "    <tr>\n",
              "      <th>1</th>\n",
              "      <td>0.011117</td>\n",
              "      <td>0.952506</td>\n",
              "      <td>0.036376</td>\n",
              "      <td>COMING UP on @WRAL at 7:30pm: We sit down with...</td>\n",
              "      <td>coming up on  at 7:30pm: we sit down with  and...</td>\n",
              "    </tr>\n",
              "    <tr>\n",
              "      <th>2</th>\n",
              "      <td>0.022494</td>\n",
              "      <td>0.936890</td>\n",
              "      <td>0.040616</td>\n",
              "      <td>Summaries of high-profile Supreme Court cases:...</td>\n",
              "      <td>summaries of high-profile supreme court cases:...</td>\n",
              "    </tr>\n",
              "    <tr>\n",
              "      <th>3</th>\n",
              "      <td>0.300519</td>\n",
              "      <td>0.663301</td>\n",
              "      <td>0.036179</td>\n",
              "      <td>Abortion Icon Emma Bonino Trounced in Italian ...</td>\n",
              "      <td>abortion icon emma bonino trounced in italian ...</td>\n",
              "    </tr>\n",
              "    <tr>\n",
              "      <th>4</th>\n",
              "      <td>0.024535</td>\n",
              "      <td>0.679589</td>\n",
              "      <td>0.295876</td>\n",
              "      <td>💥38 DAYS UNTIL #ELECTIONDAY MIDTERMS💥 WHAT R U...</td>\n",
              "      <td>💥38 days until  midterms💥 what r u doing for d...</td>\n",
              "    </tr>\n",
              "    <tr>\n",
              "      <th>5</th>\n",
              "      <td>0.831015</td>\n",
              "      <td>0.156397</td>\n",
              "      <td>0.012589</td>\n",
              "      <td>@juliaioffe Is it worse to have a POTUS who gl...</td>\n",
              "      <td>is it worse to have a potus who glibly says h...</td>\n",
              "    </tr>\n",
              "    <tr>\n",
              "      <th>6</th>\n",
              "      <td>0.320765</td>\n",
              "      <td>0.584097</td>\n",
              "      <td>0.095138</td>\n",
              "      <td>Everyone eligible to vote should be allowed to...</td>\n",
              "      <td>everyone eligible to vote should be allowed to...</td>\n",
              "    </tr>\n",
              "    <tr>\n",
              "      <th>7</th>\n",
              "      <td>0.157585</td>\n",
              "      <td>0.822115</td>\n",
              "      <td>0.020301</td>\n",
              "      <td>Abbott and O’Rourke clash on immigration, guns...</td>\n",
              "      <td>abbott and o’rourke clash on immigration, guns...</td>\n",
              "    </tr>\n",
              "    <tr>\n",
              "      <th>8</th>\n",
              "      <td>0.692373</td>\n",
              "      <td>0.290198</td>\n",
              "      <td>0.017430</td>\n",
              "      <td>Majority of Americans support sending illegal ...</td>\n",
              "      <td>majority of americans support sending illegal ...</td>\n",
              "    </tr>\n",
              "    <tr>\n",
              "      <th>9</th>\n",
              "      <td>0.543155</td>\n",
              "      <td>0.445710</td>\n",
              "      <td>0.011134</td>\n",
              "      <td>Barnstable County Sheriff Election And Immigra...</td>\n",
              "      <td>barnstable county sheriff election and immigra...</td>\n",
              "    </tr>\n",
              "  </tbody>\n",
              "</table>\n",
              "</div>\n",
              "      <button class=\"colab-df-convert\" onclick=\"convertToInteractive('df-8fb4f095-4fa0-4c02-b576-430c703c93d0')\"\n",
              "              title=\"Convert this dataframe to an interactive table.\"\n",
              "              style=\"display:none;\">\n",
              "        \n",
              "  <svg xmlns=\"http://www.w3.org/2000/svg\" height=\"24px\"viewBox=\"0 0 24 24\"\n",
              "       width=\"24px\">\n",
              "    <path d=\"M0 0h24v24H0V0z\" fill=\"none\"/>\n",
              "    <path d=\"M18.56 5.44l.94 2.06.94-2.06 2.06-.94-2.06-.94-.94-2.06-.94 2.06-2.06.94zm-11 1L8.5 8.5l.94-2.06 2.06-.94-2.06-.94L8.5 2.5l-.94 2.06-2.06.94zm10 10l.94 2.06.94-2.06 2.06-.94-2.06-.94-.94-2.06-.94 2.06-2.06.94z\"/><path d=\"M17.41 7.96l-1.37-1.37c-.4-.4-.92-.59-1.43-.59-.52 0-1.04.2-1.43.59L10.3 9.45l-7.72 7.72c-.78.78-.78 2.05 0 2.83L4 21.41c.39.39.9.59 1.41.59.51 0 1.02-.2 1.41-.59l7.78-7.78 2.81-2.81c.8-.78.8-2.07 0-2.86zM5.41 20L4 18.59l7.72-7.72 1.47 1.35L5.41 20z\"/>\n",
              "  </svg>\n",
              "      </button>\n",
              "      \n",
              "  <style>\n",
              "    .colab-df-container {\n",
              "      display:flex;\n",
              "      flex-wrap:wrap;\n",
              "      gap: 12px;\n",
              "    }\n",
              "\n",
              "    .colab-df-convert {\n",
              "      background-color: #E8F0FE;\n",
              "      border: none;\n",
              "      border-radius: 50%;\n",
              "      cursor: pointer;\n",
              "      display: none;\n",
              "      fill: #1967D2;\n",
              "      height: 32px;\n",
              "      padding: 0 0 0 0;\n",
              "      width: 32px;\n",
              "    }\n",
              "\n",
              "    .colab-df-convert:hover {\n",
              "      background-color: #E2EBFA;\n",
              "      box-shadow: 0px 1px 2px rgba(60, 64, 67, 0.3), 0px 1px 3px 1px rgba(60, 64, 67, 0.15);\n",
              "      fill: #174EA6;\n",
              "    }\n",
              "\n",
              "    [theme=dark] .colab-df-convert {\n",
              "      background-color: #3B4455;\n",
              "      fill: #D2E3FC;\n",
              "    }\n",
              "\n",
              "    [theme=dark] .colab-df-convert:hover {\n",
              "      background-color: #434B5C;\n",
              "      box-shadow: 0px 1px 3px 1px rgba(0, 0, 0, 0.15);\n",
              "      filter: drop-shadow(0px 1px 2px rgba(0, 0, 0, 0.3));\n",
              "      fill: #FFFFFF;\n",
              "    }\n",
              "  </style>\n",
              "\n",
              "      <script>\n",
              "        const buttonEl =\n",
              "          document.querySelector('#df-8fb4f095-4fa0-4c02-b576-430c703c93d0 button.colab-df-convert');\n",
              "        buttonEl.style.display =\n",
              "          google.colab.kernel.accessAllowed ? 'block' : 'none';\n",
              "\n",
              "        async function convertToInteractive(key) {\n",
              "          const element = document.querySelector('#df-8fb4f095-4fa0-4c02-b576-430c703c93d0');\n",
              "          const dataTable =\n",
              "            await google.colab.kernel.invokeFunction('convertToInteractive',\n",
              "                                                     [key], {});\n",
              "          if (!dataTable) return;\n",
              "\n",
              "          const docLinkHtml = 'Like what you see? Visit the ' +\n",
              "            '<a target=\"_blank\" href=https://colab.research.google.com/notebooks/data_table.ipynb>data table notebook</a>'\n",
              "            + ' to learn more about interactive tables.';\n",
              "          element.innerHTML = '';\n",
              "          dataTable['output_type'] = 'display_data';\n",
              "          await google.colab.output.renderOutput(dataTable, element);\n",
              "          const docLink = document.createElement('div');\n",
              "          docLink.innerHTML = docLinkHtml;\n",
              "          element.appendChild(docLink);\n",
              "        }\n",
              "      </script>\n",
              "    </div>\n",
              "  </div>\n",
              "  "
            ]
          },
          "metadata": {},
          "execution_count": 62
        }
      ]
    },
    {
      "cell_type": "markdown",
      "source": [
        "#### Apply roberta to tweets the fast way:\n",
        "Group our tweets into batches and get many scores at a time\n",
        "\n",
        "If we put out model on \"CUDA\" the notebook will process many tweets in at the same time\n",
        "\n",
        "*relevant python package: pytorch*"
      ],
      "metadata": {
        "id": "dbOgS4Be3pSk"
      }
    },
    {
      "cell_type": "code",
      "source": [
        "# deep learning toolkit\n",
        "from torch.utils.data import DataLoader\n",
        "from torch.nn import Softmax\n",
        "import torch"
      ],
      "metadata": {
        "id": "JEmLS05KzCoV"
      },
      "execution_count": null,
      "outputs": []
    },
    {
      "cell_type": "code",
      "source": [
        "CUDA = torch.cuda.is_available()\n",
        "\n",
        "print(\"Using gpu:\", CUDA)\n",
        "\n",
        "if CUDA:\n",
        "  model = model.to('cuda')\n",
        "else:\n",
        "  model = model.to('cpu')"
      ],
      "metadata": {
        "id": "I4vHTOFPxBgp",
        "colab": {
          "base_uri": "https://localhost:8080/"
        },
        "outputId": "872d5ec7-bbd8-4c69-cdd7-f5d77f088bab"
      },
      "execution_count": null,
      "outputs": [
        {
          "output_type": "stream",
          "name": "stdout",
          "text": [
            "Using gpu: True\n"
          ]
        }
      ]
    },
    {
      "cell_type": "code",
      "source": [
        "soft = Softmax()\n",
        "def encode(text, cuda=True):\n",
        "  \"\"\" Takes in cleaned tweets and outputs sentiment scores for each\"\"\"\n",
        "  encoded_input = tokenizer(text, return_tensors='pt', padding=True, truncation=True)\n",
        "  if cuda:\n",
        "    encoded_input.to('cuda')\n",
        "    output = model(**encoded_input)\n",
        "    embeddings = output[0].detach().cpu().numpy()\n",
        "  else:\n",
        "    output = model(**encoded_input)\n",
        "    embeddings = output[0].detach().numpy()\n",
        "\n",
        "  return embeddings"
      ],
      "metadata": {
        "id": "oaAQwsYG5Fh3"
      },
      "execution_count": null,
      "outputs": []
    },
    {
      "cell_type": "code",
      "source": [
        "# making some pytorch variables to assist us\n",
        "batch_size = 32\n",
        "dl = DataLoader(df['cleaned_text'], batch_size=batch_size)\n",
        "print(\"Number of Batches\", len(dl))"
      ],
      "metadata": {
        "colab": {
          "base_uri": "https://localhost:8080/"
        },
        "id": "r-lww3i34RhO",
        "outputId": "3cbe6c1d-7a4f-4561-e6c6-fd56017db1e3"
      },
      "execution_count": null,
      "outputs": [
        {
          "output_type": "stream",
          "name": "stdout",
          "text": [
            "Number of Batches 596\n"
          ]
        }
      ]
    },
    {
      "cell_type": "code",
      "source": [
        "# lets run it! It should take about a minute or so\n",
        "\n",
        "sentiment_df = pd.DataFrame(columns=labels)\n",
        "for batch in progress_bar(dl):\n",
        "  text = batch\n",
        "  embeddings = encode(text, cuda=CUDA)\n",
        "  embed_df = pd.DataFrame(embeddings, columns=labels)\n",
        "\n",
        "  # append new embeddings to current dataframe\n",
        "  sentiment_df = pd.concat((sentiment_df, embed_df), axis=0, ignore_index=True)\n",
        "  \n",
        "# convert embeddings to a probability distribution\n",
        "sentiment_df = sentiment_df.apply(softmax, axis=1) "
      ],
      "metadata": {
        "colab": {
          "base_uri": "https://localhost:8080/",
          "height": 49,
          "referenced_widgets": [
            "6718f51736ac4e1b92bc51bed73f0e13",
            "b42d767903af4554bab28e79d07a26ae",
            "750b107dade443c6bfea7509758f2644",
            "6ef7e010ff3645498ec2168283c99f60",
            "5c55e6d774bb423cb4fe56369a0fb179",
            "c75902b4a07540298a78ea6330d776d1",
            "697f3d695e794889b133c173d9f30802",
            "4abf0bff1526435d9e25131d2af551ff",
            "2d682ce5033f48ad92a8d13f7366e8a1",
            "ba47e5452a6b4844a4f45a3b0cc02f89",
            "7e44dedc55394bd1b1caba3ad8244073"
          ]
        },
        "id": "W0TGPtf-4ory",
        "outputId": "adac7934-a7ee-4598-c9b4-ac0e92474b22"
      },
      "execution_count": null,
      "outputs": [
        {
          "output_type": "display_data",
          "data": {
            "text/plain": [
              "  0%|          | 0/596 [00:00<?, ?it/s]"
            ],
            "application/vnd.jupyter.widget-view+json": {
              "version_major": 2,
              "version_minor": 0,
              "model_id": "6718f51736ac4e1b92bc51bed73f0e13"
            }
          },
          "metadata": {}
        }
      ]
    },
    {
      "cell_type": "code",
      "source": [
        "def get_class_one_hot(row):\n",
        "  max_idx = np.argmax(row)\n",
        "  one_hot = [0,0,0]\n",
        "  one_hot[max_idx] = 1\n",
        "  return one_hot\n",
        "\n",
        "class_df = sentiment_df.apply(lambda row: get_class_one_hot(row), axis=1, result_type='expand')\n",
        "class_df.columns = labels"
      ],
      "metadata": {
        "id": "q4jMkh0HKs6r"
      },
      "execution_count": null,
      "outputs": []
    },
    {
      "cell_type": "code",
      "source": [
        "# Transform scores to labels\n",
        "def get_class(row):\n",
        "  max_idx = np.argmax(row)\n",
        "  return labels[max_idx]\n"
      ],
      "metadata": {
        "id": "a2OrkufA6-9J",
        "colab": {
          "base_uri": "https://localhost:8080/",
          "height": 424
        },
        "outputId": "2605da07-3011-4d6b-8c77-6264f2d845c7"
      },
      "execution_count": null,
      "outputs": [
        {
          "output_type": "execute_result",
          "data": {
            "text/plain": [
              "       negative  neutral  positive predicted_class\n",
              "0             0        1         0         neutral\n",
              "1             0        1         0         neutral\n",
              "2             0        1         0         neutral\n",
              "3             0        1         0         neutral\n",
              "4             0        1         0         neutral\n",
              "...         ...      ...       ...             ...\n",
              "19052         1        0         0        negative\n",
              "19053         0        1         0         neutral\n",
              "19054         0        1         0         neutral\n",
              "19055         1        0         0        negative\n",
              "19056         0        1         0         neutral\n",
              "\n",
              "[19057 rows x 4 columns]"
            ],
            "text/html": [
              "\n",
              "  <div id=\"df-22f58401-e316-4d5e-b2b1-15e23bea1a21\">\n",
              "    <div class=\"colab-df-container\">\n",
              "      <div>\n",
              "<style scoped>\n",
              "    .dataframe tbody tr th:only-of-type {\n",
              "        vertical-align: middle;\n",
              "    }\n",
              "\n",
              "    .dataframe tbody tr th {\n",
              "        vertical-align: top;\n",
              "    }\n",
              "\n",
              "    .dataframe thead th {\n",
              "        text-align: right;\n",
              "    }\n",
              "</style>\n",
              "<table border=\"1\" class=\"dataframe\">\n",
              "  <thead>\n",
              "    <tr style=\"text-align: right;\">\n",
              "      <th></th>\n",
              "      <th>negative</th>\n",
              "      <th>neutral</th>\n",
              "      <th>positive</th>\n",
              "      <th>predicted_class</th>\n",
              "    </tr>\n",
              "  </thead>\n",
              "  <tbody>\n",
              "    <tr>\n",
              "      <th>0</th>\n",
              "      <td>0</td>\n",
              "      <td>1</td>\n",
              "      <td>0</td>\n",
              "      <td>neutral</td>\n",
              "    </tr>\n",
              "    <tr>\n",
              "      <th>1</th>\n",
              "      <td>0</td>\n",
              "      <td>1</td>\n",
              "      <td>0</td>\n",
              "      <td>neutral</td>\n",
              "    </tr>\n",
              "    <tr>\n",
              "      <th>2</th>\n",
              "      <td>0</td>\n",
              "      <td>1</td>\n",
              "      <td>0</td>\n",
              "      <td>neutral</td>\n",
              "    </tr>\n",
              "    <tr>\n",
              "      <th>3</th>\n",
              "      <td>0</td>\n",
              "      <td>1</td>\n",
              "      <td>0</td>\n",
              "      <td>neutral</td>\n",
              "    </tr>\n",
              "    <tr>\n",
              "      <th>4</th>\n",
              "      <td>0</td>\n",
              "      <td>1</td>\n",
              "      <td>0</td>\n",
              "      <td>neutral</td>\n",
              "    </tr>\n",
              "    <tr>\n",
              "      <th>...</th>\n",
              "      <td>...</td>\n",
              "      <td>...</td>\n",
              "      <td>...</td>\n",
              "      <td>...</td>\n",
              "    </tr>\n",
              "    <tr>\n",
              "      <th>19052</th>\n",
              "      <td>1</td>\n",
              "      <td>0</td>\n",
              "      <td>0</td>\n",
              "      <td>negative</td>\n",
              "    </tr>\n",
              "    <tr>\n",
              "      <th>19053</th>\n",
              "      <td>0</td>\n",
              "      <td>1</td>\n",
              "      <td>0</td>\n",
              "      <td>neutral</td>\n",
              "    </tr>\n",
              "    <tr>\n",
              "      <th>19054</th>\n",
              "      <td>0</td>\n",
              "      <td>1</td>\n",
              "      <td>0</td>\n",
              "      <td>neutral</td>\n",
              "    </tr>\n",
              "    <tr>\n",
              "      <th>19055</th>\n",
              "      <td>1</td>\n",
              "      <td>0</td>\n",
              "      <td>0</td>\n",
              "      <td>negative</td>\n",
              "    </tr>\n",
              "    <tr>\n",
              "      <th>19056</th>\n",
              "      <td>0</td>\n",
              "      <td>1</td>\n",
              "      <td>0</td>\n",
              "      <td>neutral</td>\n",
              "    </tr>\n",
              "  </tbody>\n",
              "</table>\n",
              "<p>19057 rows × 4 columns</p>\n",
              "</div>\n",
              "      <button class=\"colab-df-convert\" onclick=\"convertToInteractive('df-22f58401-e316-4d5e-b2b1-15e23bea1a21')\"\n",
              "              title=\"Convert this dataframe to an interactive table.\"\n",
              "              style=\"display:none;\">\n",
              "        \n",
              "  <svg xmlns=\"http://www.w3.org/2000/svg\" height=\"24px\"viewBox=\"0 0 24 24\"\n",
              "       width=\"24px\">\n",
              "    <path d=\"M0 0h24v24H0V0z\" fill=\"none\"/>\n",
              "    <path d=\"M18.56 5.44l.94 2.06.94-2.06 2.06-.94-2.06-.94-.94-2.06-.94 2.06-2.06.94zm-11 1L8.5 8.5l.94-2.06 2.06-.94-2.06-.94L8.5 2.5l-.94 2.06-2.06.94zm10 10l.94 2.06.94-2.06 2.06-.94-2.06-.94-.94-2.06-.94 2.06-2.06.94z\"/><path d=\"M17.41 7.96l-1.37-1.37c-.4-.4-.92-.59-1.43-.59-.52 0-1.04.2-1.43.59L10.3 9.45l-7.72 7.72c-.78.78-.78 2.05 0 2.83L4 21.41c.39.39.9.59 1.41.59.51 0 1.02-.2 1.41-.59l7.78-7.78 2.81-2.81c.8-.78.8-2.07 0-2.86zM5.41 20L4 18.59l7.72-7.72 1.47 1.35L5.41 20z\"/>\n",
              "  </svg>\n",
              "      </button>\n",
              "      \n",
              "  <style>\n",
              "    .colab-df-container {\n",
              "      display:flex;\n",
              "      flex-wrap:wrap;\n",
              "      gap: 12px;\n",
              "    }\n",
              "\n",
              "    .colab-df-convert {\n",
              "      background-color: #E8F0FE;\n",
              "      border: none;\n",
              "      border-radius: 50%;\n",
              "      cursor: pointer;\n",
              "      display: none;\n",
              "      fill: #1967D2;\n",
              "      height: 32px;\n",
              "      padding: 0 0 0 0;\n",
              "      width: 32px;\n",
              "    }\n",
              "\n",
              "    .colab-df-convert:hover {\n",
              "      background-color: #E2EBFA;\n",
              "      box-shadow: 0px 1px 2px rgba(60, 64, 67, 0.3), 0px 1px 3px 1px rgba(60, 64, 67, 0.15);\n",
              "      fill: #174EA6;\n",
              "    }\n",
              "\n",
              "    [theme=dark] .colab-df-convert {\n",
              "      background-color: #3B4455;\n",
              "      fill: #D2E3FC;\n",
              "    }\n",
              "\n",
              "    [theme=dark] .colab-df-convert:hover {\n",
              "      background-color: #434B5C;\n",
              "      box-shadow: 0px 1px 3px 1px rgba(0, 0, 0, 0.15);\n",
              "      filter: drop-shadow(0px 1px 2px rgba(0, 0, 0, 0.3));\n",
              "      fill: #FFFFFF;\n",
              "    }\n",
              "  </style>\n",
              "\n",
              "      <script>\n",
              "        const buttonEl =\n",
              "          document.querySelector('#df-22f58401-e316-4d5e-b2b1-15e23bea1a21 button.colab-df-convert');\n",
              "        buttonEl.style.display =\n",
              "          google.colab.kernel.accessAllowed ? 'block' : 'none';\n",
              "\n",
              "        async function convertToInteractive(key) {\n",
              "          const element = document.querySelector('#df-22f58401-e316-4d5e-b2b1-15e23bea1a21');\n",
              "          const dataTable =\n",
              "            await google.colab.kernel.invokeFunction('convertToInteractive',\n",
              "                                                     [key], {});\n",
              "          if (!dataTable) return;\n",
              "\n",
              "          const docLinkHtml = 'Like what you see? Visit the ' +\n",
              "            '<a target=\"_blank\" href=https://colab.research.google.com/notebooks/data_table.ipynb>data table notebook</a>'\n",
              "            + ' to learn more about interactive tables.';\n",
              "          element.innerHTML = '';\n",
              "          dataTable['output_type'] = 'display_data';\n",
              "          await google.colab.output.renderOutput(dataTable, element);\n",
              "          const docLink = document.createElement('div');\n",
              "          docLink.innerHTML = docLinkHtml;\n",
              "          element.appendChild(docLink);\n",
              "        }\n",
              "      </script>\n",
              "    </div>\n",
              "  </div>\n",
              "  "
            ]
          },
          "metadata": {},
          "execution_count": 44
        }
      ]
    },
    {
      "cell_type": "code",
      "source": [
        "\n",
        "class_df[\"predicted_class\"] = sentiment_df.apply(get_class, axis=1)\n",
        "class_df['text'] = df['Full Text']\n",
        "class_df['cleaned_text'] = df['cleaned_text']\n",
        "class_df['date'] = df['Date'].apply(lambda x: x.split()[0])\n",
        "class_df['gender'] = df['Gender']\n",
        "class_df"
      ],
      "metadata": {
        "colab": {
          "base_uri": "https://localhost:8080/",
          "height": 659
        },
        "id": "TUGBiDwvxWDC",
        "outputId": "e4ead55e-6f25-4d3b-9e41-9e3ef5d73356"
      },
      "execution_count": null,
      "outputs": [
        {
          "output_type": "execute_result",
          "data": {
            "text/plain": [
              "       negative  neutral  positive predicted_class  \\\n",
              "0             0        1         0         neutral   \n",
              "1             0        1         0         neutral   \n",
              "2             0        1         0         neutral   \n",
              "3             0        1         0         neutral   \n",
              "4             0        1         0         neutral   \n",
              "...         ...      ...       ...             ...   \n",
              "19052         1        0         0        negative   \n",
              "19053         0        1         0         neutral   \n",
              "19054         0        1         0         neutral   \n",
              "19055         1        0         0        negative   \n",
              "19056         0        1         0         neutral   \n",
              "\n",
              "                                                    text  \\\n",
              "0      In Colorado Senate race, Michael Bennet still ...   \n",
              "1      COMING UP on @WRAL at 7:30pm: We sit down with...   \n",
              "2      Summaries of high-profile Supreme Court cases:...   \n",
              "3      Abortion Icon Emma Bonino Trounced in Italian ...   \n",
              "4      💥38 DAYS UNTIL #ELECTIONDAY MIDTERMS💥 WHAT R U...   \n",
              "...                                                  ...   \n",
              "19052  Senator has been blocking immigration reforms ...   \n",
              "19053  Weekend Update: Tammy the Trucker on Gas Price...   \n",
              "19054  Letters to the Editor — Plano, voting machines...   \n",
              "19055  I think Trump is the only Republican that coul...   \n",
              "19056  VOA Immigration Weekly Recap, Oct. 30–Nov. 5 -...   \n",
              "\n",
              "                                            cleaned_text        date   gender  \n",
              "0      In Colorado Senate race, Michael Bennet still ...  2022-10-01  unknown  \n",
              "1      COMING UP on  at 7:30pm: We sit down with  and...  2022-10-01     male  \n",
              "2      Summaries of high-profile Supreme Court cases:...  2022-10-01     male  \n",
              "3      Abortion Icon Emma Bonino Trounced in Italian ...  2022-10-01  unknown  \n",
              "4      💥38 DAYS UNTIL  MIDTERMS💥 WHAT R U DOING FOR D...  2022-10-01     male  \n",
              "...                                                  ...         ...      ...  \n",
              "19052  Senator has been blocking immigration reforms ...  2022-11-06  unknown  \n",
              "19053  Weekend Update: Tammy the Trucker on Gas Price...  2022-11-06   female  \n",
              "19054  Letters to the Editor — Plano, voting machines...  2022-11-06     male  \n",
              "19055  I think Trump is the only Republican that coul...  2022-11-06  unknown  \n",
              "19056  VOA Immigration Weekly Recap, Oct. 30–Nov. 5 -...  2022-11-06      NaN  \n",
              "\n",
              "[19057 rows x 8 columns]"
            ],
            "text/html": [
              "\n",
              "  <div id=\"df-b42a2bdf-eb64-42b9-9ea6-c74ef6e88e41\">\n",
              "    <div class=\"colab-df-container\">\n",
              "      <div>\n",
              "<style scoped>\n",
              "    .dataframe tbody tr th:only-of-type {\n",
              "        vertical-align: middle;\n",
              "    }\n",
              "\n",
              "    .dataframe tbody tr th {\n",
              "        vertical-align: top;\n",
              "    }\n",
              "\n",
              "    .dataframe thead th {\n",
              "        text-align: right;\n",
              "    }\n",
              "</style>\n",
              "<table border=\"1\" class=\"dataframe\">\n",
              "  <thead>\n",
              "    <tr style=\"text-align: right;\">\n",
              "      <th></th>\n",
              "      <th>negative</th>\n",
              "      <th>neutral</th>\n",
              "      <th>positive</th>\n",
              "      <th>predicted_class</th>\n",
              "      <th>text</th>\n",
              "      <th>cleaned_text</th>\n",
              "      <th>date</th>\n",
              "      <th>gender</th>\n",
              "    </tr>\n",
              "  </thead>\n",
              "  <tbody>\n",
              "    <tr>\n",
              "      <th>0</th>\n",
              "      <td>0</td>\n",
              "      <td>1</td>\n",
              "      <td>0</td>\n",
              "      <td>neutral</td>\n",
              "      <td>In Colorado Senate race, Michael Bennet still ...</td>\n",
              "      <td>In Colorado Senate race, Michael Bennet still ...</td>\n",
              "      <td>2022-10-01</td>\n",
              "      <td>unknown</td>\n",
              "    </tr>\n",
              "    <tr>\n",
              "      <th>1</th>\n",
              "      <td>0</td>\n",
              "      <td>1</td>\n",
              "      <td>0</td>\n",
              "      <td>neutral</td>\n",
              "      <td>COMING UP on @WRAL at 7:30pm: We sit down with...</td>\n",
              "      <td>COMING UP on  at 7:30pm: We sit down with  and...</td>\n",
              "      <td>2022-10-01</td>\n",
              "      <td>male</td>\n",
              "    </tr>\n",
              "    <tr>\n",
              "      <th>2</th>\n",
              "      <td>0</td>\n",
              "      <td>1</td>\n",
              "      <td>0</td>\n",
              "      <td>neutral</td>\n",
              "      <td>Summaries of high-profile Supreme Court cases:...</td>\n",
              "      <td>Summaries of high-profile Supreme Court cases:...</td>\n",
              "      <td>2022-10-01</td>\n",
              "      <td>male</td>\n",
              "    </tr>\n",
              "    <tr>\n",
              "      <th>3</th>\n",
              "      <td>0</td>\n",
              "      <td>1</td>\n",
              "      <td>0</td>\n",
              "      <td>neutral</td>\n",
              "      <td>Abortion Icon Emma Bonino Trounced in Italian ...</td>\n",
              "      <td>Abortion Icon Emma Bonino Trounced in Italian ...</td>\n",
              "      <td>2022-10-01</td>\n",
              "      <td>unknown</td>\n",
              "    </tr>\n",
              "    <tr>\n",
              "      <th>4</th>\n",
              "      <td>0</td>\n",
              "      <td>1</td>\n",
              "      <td>0</td>\n",
              "      <td>neutral</td>\n",
              "      <td>💥38 DAYS UNTIL #ELECTIONDAY MIDTERMS💥 WHAT R U...</td>\n",
              "      <td>💥38 DAYS UNTIL  MIDTERMS💥 WHAT R U DOING FOR D...</td>\n",
              "      <td>2022-10-01</td>\n",
              "      <td>male</td>\n",
              "    </tr>\n",
              "    <tr>\n",
              "      <th>...</th>\n",
              "      <td>...</td>\n",
              "      <td>...</td>\n",
              "      <td>...</td>\n",
              "      <td>...</td>\n",
              "      <td>...</td>\n",
              "      <td>...</td>\n",
              "      <td>...</td>\n",
              "      <td>...</td>\n",
              "    </tr>\n",
              "    <tr>\n",
              "      <th>19052</th>\n",
              "      <td>1</td>\n",
              "      <td>0</td>\n",
              "      <td>0</td>\n",
              "      <td>negative</td>\n",
              "      <td>Senator has been blocking immigration reforms ...</td>\n",
              "      <td>Senator has been blocking immigration reforms ...</td>\n",
              "      <td>2022-11-06</td>\n",
              "      <td>unknown</td>\n",
              "    </tr>\n",
              "    <tr>\n",
              "      <th>19053</th>\n",
              "      <td>0</td>\n",
              "      <td>1</td>\n",
              "      <td>0</td>\n",
              "      <td>neutral</td>\n",
              "      <td>Weekend Update: Tammy the Trucker on Gas Price...</td>\n",
              "      <td>Weekend Update: Tammy the Trucker on Gas Price...</td>\n",
              "      <td>2022-11-06</td>\n",
              "      <td>female</td>\n",
              "    </tr>\n",
              "    <tr>\n",
              "      <th>19054</th>\n",
              "      <td>0</td>\n",
              "      <td>1</td>\n",
              "      <td>0</td>\n",
              "      <td>neutral</td>\n",
              "      <td>Letters to the Editor — Plano, voting machines...</td>\n",
              "      <td>Letters to the Editor — Plano, voting machines...</td>\n",
              "      <td>2022-11-06</td>\n",
              "      <td>male</td>\n",
              "    </tr>\n",
              "    <tr>\n",
              "      <th>19055</th>\n",
              "      <td>1</td>\n",
              "      <td>0</td>\n",
              "      <td>0</td>\n",
              "      <td>negative</td>\n",
              "      <td>I think Trump is the only Republican that coul...</td>\n",
              "      <td>I think Trump is the only Republican that coul...</td>\n",
              "      <td>2022-11-06</td>\n",
              "      <td>unknown</td>\n",
              "    </tr>\n",
              "    <tr>\n",
              "      <th>19056</th>\n",
              "      <td>0</td>\n",
              "      <td>1</td>\n",
              "      <td>0</td>\n",
              "      <td>neutral</td>\n",
              "      <td>VOA Immigration Weekly Recap, Oct. 30–Nov. 5 -...</td>\n",
              "      <td>VOA Immigration Weekly Recap, Oct. 30–Nov. 5 -...</td>\n",
              "      <td>2022-11-06</td>\n",
              "      <td>NaN</td>\n",
              "    </tr>\n",
              "  </tbody>\n",
              "</table>\n",
              "<p>19057 rows × 8 columns</p>\n",
              "</div>\n",
              "      <button class=\"colab-df-convert\" onclick=\"convertToInteractive('df-b42a2bdf-eb64-42b9-9ea6-c74ef6e88e41')\"\n",
              "              title=\"Convert this dataframe to an interactive table.\"\n",
              "              style=\"display:none;\">\n",
              "        \n",
              "  <svg xmlns=\"http://www.w3.org/2000/svg\" height=\"24px\"viewBox=\"0 0 24 24\"\n",
              "       width=\"24px\">\n",
              "    <path d=\"M0 0h24v24H0V0z\" fill=\"none\"/>\n",
              "    <path d=\"M18.56 5.44l.94 2.06.94-2.06 2.06-.94-2.06-.94-.94-2.06-.94 2.06-2.06.94zm-11 1L8.5 8.5l.94-2.06 2.06-.94-2.06-.94L8.5 2.5l-.94 2.06-2.06.94zm10 10l.94 2.06.94-2.06 2.06-.94-2.06-.94-.94-2.06-.94 2.06-2.06.94z\"/><path d=\"M17.41 7.96l-1.37-1.37c-.4-.4-.92-.59-1.43-.59-.52 0-1.04.2-1.43.59L10.3 9.45l-7.72 7.72c-.78.78-.78 2.05 0 2.83L4 21.41c.39.39.9.59 1.41.59.51 0 1.02-.2 1.41-.59l7.78-7.78 2.81-2.81c.8-.78.8-2.07 0-2.86zM5.41 20L4 18.59l7.72-7.72 1.47 1.35L5.41 20z\"/>\n",
              "  </svg>\n",
              "      </button>\n",
              "      \n",
              "  <style>\n",
              "    .colab-df-container {\n",
              "      display:flex;\n",
              "      flex-wrap:wrap;\n",
              "      gap: 12px;\n",
              "    }\n",
              "\n",
              "    .colab-df-convert {\n",
              "      background-color: #E8F0FE;\n",
              "      border: none;\n",
              "      border-radius: 50%;\n",
              "      cursor: pointer;\n",
              "      display: none;\n",
              "      fill: #1967D2;\n",
              "      height: 32px;\n",
              "      padding: 0 0 0 0;\n",
              "      width: 32px;\n",
              "    }\n",
              "\n",
              "    .colab-df-convert:hover {\n",
              "      background-color: #E2EBFA;\n",
              "      box-shadow: 0px 1px 2px rgba(60, 64, 67, 0.3), 0px 1px 3px 1px rgba(60, 64, 67, 0.15);\n",
              "      fill: #174EA6;\n",
              "    }\n",
              "\n",
              "    [theme=dark] .colab-df-convert {\n",
              "      background-color: #3B4455;\n",
              "      fill: #D2E3FC;\n",
              "    }\n",
              "\n",
              "    [theme=dark] .colab-df-convert:hover {\n",
              "      background-color: #434B5C;\n",
              "      box-shadow: 0px 1px 3px 1px rgba(0, 0, 0, 0.15);\n",
              "      filter: drop-shadow(0px 1px 2px rgba(0, 0, 0, 0.3));\n",
              "      fill: #FFFFFF;\n",
              "    }\n",
              "  </style>\n",
              "\n",
              "      <script>\n",
              "        const buttonEl =\n",
              "          document.querySelector('#df-b42a2bdf-eb64-42b9-9ea6-c74ef6e88e41 button.colab-df-convert');\n",
              "        buttonEl.style.display =\n",
              "          google.colab.kernel.accessAllowed ? 'block' : 'none';\n",
              "\n",
              "        async function convertToInteractive(key) {\n",
              "          const element = document.querySelector('#df-b42a2bdf-eb64-42b9-9ea6-c74ef6e88e41');\n",
              "          const dataTable =\n",
              "            await google.colab.kernel.invokeFunction('convertToInteractive',\n",
              "                                                     [key], {});\n",
              "          if (!dataTable) return;\n",
              "\n",
              "          const docLinkHtml = 'Like what you see? Visit the ' +\n",
              "            '<a target=\"_blank\" href=https://colab.research.google.com/notebooks/data_table.ipynb>data table notebook</a>'\n",
              "            + ' to learn more about interactive tables.';\n",
              "          element.innerHTML = '';\n",
              "          dataTable['output_type'] = 'display_data';\n",
              "          await google.colab.output.renderOutput(dataTable, element);\n",
              "          const docLink = document.createElement('div');\n",
              "          docLink.innerHTML = docLinkHtml;\n",
              "          element.appendChild(docLink);\n",
              "        }\n",
              "      </script>\n",
              "    </div>\n",
              "  </div>\n",
              "  "
            ]
          },
          "metadata": {},
          "execution_count": 45
        }
      ]
    },
    {
      "cell_type": "markdown",
      "source": [
        "### Analyze tweets\n",
        "\n",
        "*key python package: matplotlib*"
      ],
      "metadata": {
        "id": "0akJpIkcmahB"
      }
    },
    {
      "cell_type": "code",
      "source": [
        "# vizualize data\n",
        "import matplotlib\n",
        "import matplotlib.pyplot as plt\n",
        "import plotly.express as px"
      ],
      "metadata": {
        "id": "EJV2l7h3y72r"
      },
      "execution_count": null,
      "outputs": []
    },
    {
      "cell_type": "code",
      "source": [
        "# don't base real science on confidence scores, but we can still take a look to get a sense of the data\n",
        "plt.hist(sentiment_df['negative'], bins=100)\n",
        "plt.xlabel(\"class score\")\n",
        "plt.show()"
      ],
      "metadata": {
        "colab": {
          "base_uri": "https://localhost:8080/",
          "height": 279
        },
        "id": "tOntzy8FI6e3",
        "outputId": "3f3e9785-8006-4d61-b1e3-5fe1a2d8a364"
      },
      "execution_count": null,
      "outputs": [
        {
          "output_type": "display_data",
          "data": {
            "text/plain": [
              "<Figure size 432x288 with 1 Axes>"
            ],
            "image/png": "[encoded data removed]"
          },
          "metadata": {
            "needs_background": "light"
          }
        }
      ]
    },
    {
      "cell_type": "code",
      "source": [
        "our_histogram = class_df['predicted_class'].hist()\n",
        "our_histogram.set_title(\"Count of Sentiment Label for All Tweets\")\n",
        "our_histogram.set_ylabel(\"Number of Tweets\")"
      ],
      "metadata": {
        "colab": {
          "base_uri": "https://localhost:8080/",
          "height": 298
        },
        "id": "u-uIHpY9I35F",
        "outputId": "99bbd498-d23e-49d9-d562-a469f6aae4df"
      },
      "execution_count": null,
      "outputs": [
        {
          "output_type": "execute_result",
          "data": {
            "text/plain": [
              "Text(0, 0.5, 'Number of Tweets')"
            ]
          },
          "metadata": {},
          "execution_count": 48
        },
        {
          "output_type": "display_data",
          "data": {
            "text/plain": [
              "<Figure size 432x288 with 1 Axes>"
            ],
            "image/png": "[encoded data removed]"
          },
          "metadata": {
            "needs_background": "light"
          }
        }
      ]
    },
    {
      "cell_type": "code",
      "source": [
        "key_word = df['Full Text'].apply(lambda x: \"trump\" in str(x))\n",
        "\n",
        "key_word_df = class_df[key_word]\n",
        "key_word_df.reset_index()\n",
        "histogram = key_word_df['predicted_class'].hist()"
      ],
      "metadata": {
        "id": "tFV57yIbD-Xu",
        "colab": {
          "base_uri": "https://localhost:8080/",
          "height": 265
        },
        "outputId": "6af284af-82a7-4609-ff7b-743d633f2343"
      },
      "execution_count": null,
      "outputs": [
        {
          "output_type": "display_data",
          "data": {
            "text/plain": [
              "<Figure size 432x288 with 1 Axes>"
            ],
            "image/png": "[encoded data removed]"
          },
          "metadata": {
            "needs_background": "light"
          }
        }
      ]
    },
    {
      "cell_type": "markdown",
      "source": [
        "## Some Funkier Plots"
      ],
      "metadata": {
        "id": "QKHX6atTJCI6"
      }
    },
    {
      "cell_type": "code",
      "source": [
        "by_date = class_df.groupby('date', as_index=False)['negative', 'neutral', 'positive'].sum()\n",
        "by_date['int_date'] = by_date['date'].apply(lambda x: matplotlib.dates.date2num(datetime.strptime(x, '%Y-%m-%d')))\n",
        "by_date.head()"
      ],
      "metadata": {
        "colab": {
          "base_uri": "https://localhost:8080/",
          "height": 276
        },
        "id": "2INL75gIAD8K",
        "outputId": "bb50ed57-7cce-4086-9f57-d94d32a82d13"
      },
      "execution_count": null,
      "outputs": [
        {
          "output_type": "stream",
          "name": "stderr",
          "text": [
            "/usr/local/lib/python3.7/dist-packages/ipykernel_launcher.py:1: FutureWarning:\n",
            "\n",
            "Indexing with multiple keys (implicitly converted to a tuple of keys) will be deprecated, use a list instead.\n",
            "\n"
          ]
        },
        {
          "output_type": "execute_result",
          "data": {
            "text/plain": [
              "         date  negative  neutral  positive  int_date\n",
              "0  2022-01-01         5        4         1  738156.0\n",
              "1  2022-01-02        13        9         3  738157.0\n",
              "2  2022-01-03        19       16         4  738158.0\n",
              "3  2022-01-04        16       10         7  738159.0\n",
              "4  2022-01-05        18       11         4  738160.0"
            ],
            "text/html": [
              "\n",
              "  <div id=\"df-85be3eea-9b17-4fec-8d59-0c947b4edcf5\">\n",
              "    <div class=\"colab-df-container\">\n",
              "      <div>\n",
              "<style scoped>\n",
              "    .dataframe tbody tr th:only-of-type {\n",
              "        vertical-align: middle;\n",
              "    }\n",
              "\n",
              "    .dataframe tbody tr th {\n",
              "        vertical-align: top;\n",
              "    }\n",
              "\n",
              "    .dataframe thead th {\n",
              "        text-align: right;\n",
              "    }\n",
              "</style>\n",
              "<table border=\"1\" class=\"dataframe\">\n",
              "  <thead>\n",
              "    <tr style=\"text-align: right;\">\n",
              "      <th></th>\n",
              "      <th>date</th>\n",
              "      <th>negative</th>\n",
              "      <th>neutral</th>\n",
              "      <th>positive</th>\n",
              "      <th>int_date</th>\n",
              "    </tr>\n",
              "  </thead>\n",
              "  <tbody>\n",
              "    <tr>\n",
              "      <th>0</th>\n",
              "      <td>2022-01-01</td>\n",
              "      <td>5</td>\n",
              "      <td>4</td>\n",
              "      <td>1</td>\n",
              "      <td>738156.0</td>\n",
              "    </tr>\n",
              "    <tr>\n",
              "      <th>1</th>\n",
              "      <td>2022-01-02</td>\n",
              "      <td>13</td>\n",
              "      <td>9</td>\n",
              "      <td>3</td>\n",
              "      <td>738157.0</td>\n",
              "    </tr>\n",
              "    <tr>\n",
              "      <th>2</th>\n",
              "      <td>2022-01-03</td>\n",
              "      <td>19</td>\n",
              "      <td>16</td>\n",
              "      <td>4</td>\n",
              "      <td>738158.0</td>\n",
              "    </tr>\n",
              "    <tr>\n",
              "      <th>3</th>\n",
              "      <td>2022-01-04</td>\n",
              "      <td>16</td>\n",
              "      <td>10</td>\n",
              "      <td>7</td>\n",
              "      <td>738159.0</td>\n",
              "    </tr>\n",
              "    <tr>\n",
              "      <th>4</th>\n",
              "      <td>2022-01-05</td>\n",
              "      <td>18</td>\n",
              "      <td>11</td>\n",
              "      <td>4</td>\n",
              "      <td>738160.0</td>\n",
              "    </tr>\n",
              "  </tbody>\n",
              "</table>\n",
              "</div>\n",
              "      <button class=\"colab-df-convert\" onclick=\"convertToInteractive('df-85be3eea-9b17-4fec-8d59-0c947b4edcf5')\"\n",
              "              title=\"Convert this dataframe to an interactive table.\"\n",
              "              style=\"display:none;\">\n",
              "        \n",
              "  <svg xmlns=\"http://www.w3.org/2000/svg\" height=\"24px\"viewBox=\"0 0 24 24\"\n",
              "       width=\"24px\">\n",
              "    <path d=\"M0 0h24v24H0V0z\" fill=\"none\"/>\n",
              "    <path d=\"M18.56 5.44l.94 2.06.94-2.06 2.06-.94-2.06-.94-.94-2.06-.94 2.06-2.06.94zm-11 1L8.5 8.5l.94-2.06 2.06-.94-2.06-.94L8.5 2.5l-.94 2.06-2.06.94zm10 10l.94 2.06.94-2.06 2.06-.94-2.06-.94-.94-2.06-.94 2.06-2.06.94z\"/><path d=\"M17.41 7.96l-1.37-1.37c-.4-.4-.92-.59-1.43-.59-.52 0-1.04.2-1.43.59L10.3 9.45l-7.72 7.72c-.78.78-.78 2.05 0 2.83L4 21.41c.39.39.9.59 1.41.59.51 0 1.02-.2 1.41-.59l7.78-7.78 2.81-2.81c.8-.78.8-2.07 0-2.86zM5.41 20L4 18.59l7.72-7.72 1.47 1.35L5.41 20z\"/>\n",
              "  </svg>\n",
              "      </button>\n",
              "      \n",
              "  <style>\n",
              "    .colab-df-container {\n",
              "      display:flex;\n",
              "      flex-wrap:wrap;\n",
              "      gap: 12px;\n",
              "    }\n",
              "\n",
              "    .colab-df-convert {\n",
              "      background-color: #E8F0FE;\n",
              "      border: none;\n",
              "      border-radius: 50%;\n",
              "      cursor: pointer;\n",
              "      display: none;\n",
              "      fill: #1967D2;\n",
              "      height: 32px;\n",
              "      padding: 0 0 0 0;\n",
              "      width: 32px;\n",
              "    }\n",
              "\n",
              "    .colab-df-convert:hover {\n",
              "      background-color: #E2EBFA;\n",
              "      box-shadow: 0px 1px 2px rgba(60, 64, 67, 0.3), 0px 1px 3px 1px rgba(60, 64, 67, 0.15);\n",
              "      fill: #174EA6;\n",
              "    }\n",
              "\n",
              "    [theme=dark] .colab-df-convert {\n",
              "      background-color: #3B4455;\n",
              "      fill: #D2E3FC;\n",
              "    }\n",
              "\n",
              "    [theme=dark] .colab-df-convert:hover {\n",
              "      background-color: #434B5C;\n",
              "      box-shadow: 0px 1px 3px 1px rgba(0, 0, 0, 0.15);\n",
              "      filter: drop-shadow(0px 1px 2px rgba(0, 0, 0, 0.3));\n",
              "      fill: #FFFFFF;\n",
              "    }\n",
              "  </style>\n",
              "\n",
              "      <script>\n",
              "        const buttonEl =\n",
              "          document.querySelector('#df-85be3eea-9b17-4fec-8d59-0c947b4edcf5 button.colab-df-convert');\n",
              "        buttonEl.style.display =\n",
              "          google.colab.kernel.accessAllowed ? 'block' : 'none';\n",
              "\n",
              "        async function convertToInteractive(key) {\n",
              "          const element = document.querySelector('#df-85be3eea-9b17-4fec-8d59-0c947b4edcf5');\n",
              "          const dataTable =\n",
              "            await google.colab.kernel.invokeFunction('convertToInteractive',\n",
              "                                                     [key], {});\n",
              "          if (!dataTable) return;\n",
              "\n",
              "          const docLinkHtml = 'Like what you see? Visit the ' +\n",
              "            '<a target=\"_blank\" href=https://colab.research.google.com/notebooks/data_table.ipynb>data table notebook</a>'\n",
              "            + ' to learn more about interactive tables.';\n",
              "          element.innerHTML = '';\n",
              "          dataTable['output_type'] = 'display_data';\n",
              "          await google.colab.output.renderOutput(dataTable, element);\n",
              "          const docLink = document.createElement('div');\n",
              "          docLink.innerHTML = docLinkHtml;\n",
              "          element.appendChild(docLink);\n",
              "        }\n",
              "      </script>\n",
              "    </div>\n",
              "  </div>\n",
              "  "
            ]
          },
          "metadata": {},
          "execution_count": 160
        }
      ]
    },
    {
      "cell_type": "code",
      "source": [
        "plt.plot('int_date', 'negative', data=by_date)\n",
        "plt.plot('int_date', 'neutral', data=by_date)\n",
        "plt.plot('int_date', 'positive', data=by_date)\n",
        "\n",
        "ax = plt.gca()\n",
        "# ax.xaxis.set_major_locator(mdates.MonthLocator(bymonth=(1, 7)))\n",
        "ax.xaxis.set_major_locator(mdates.MonthLocator())\n",
        "ax.xaxis.set_major_formatter(mdates.ConciseDateFormatter(ax.xaxis.get_major_locator()))\n",
        "# ax.xaxis.set_major_formatter(mdates.DateFormatter('%Y-%b'))\n",
        "plt.show()"
      ],
      "metadata": {
        "colab": {
          "base_uri": "https://localhost:8080/",
          "height": 278
        },
        "id": "1bRIlX0BEJgq",
        "outputId": "9a7f4237-d27b-4065-ad2e-b1982b4afe51"
      },
      "execution_count": null,
      "outputs": [
        {
          "output_type": "display_data",
          "data": {
            "text/plain": [
              "<Figure size 432x288 with 1 Axes>"
            ],
            "image/png": "[encoded data removed]"
          },
          "metadata": {
            "needs_background": "light"
          }
        }
      ]
    },
    {
      "cell_type": "code",
      "source": [
        "class_df['state'] = df['Region Code'].apply(lambda x: str(x)[-2:])\n",
        "by_state = class_df.groupby('state', as_index=False)['negative', 'neutral', 'positive'].mean()\n",
        "by_state.head()"
      ],
      "metadata": {
        "colab": {
          "base_uri": "https://localhost:8080/",
          "height": 276
        },
        "id": "AYnlwbVk_cAo",
        "outputId": "5b8349c4-cf15-4a5f-bcba-37d8ca4c4fa9"
      },
      "execution_count": null,
      "outputs": [
        {
          "output_type": "stream",
          "name": "stderr",
          "text": [
            "/usr/local/lib/python3.7/dist-packages/ipykernel_launcher.py:2: FutureWarning:\n",
            "\n",
            "Indexing with multiple keys (implicitly converted to a tuple of keys) will be deprecated, use a list instead.\n",
            "\n"
          ]
        },
        {
          "output_type": "execute_result",
          "data": {
            "text/plain": [
              "  state  negative   neutral  positive\n",
              "0    AK  0.611111  0.333333  0.055556\n",
              "1    AL  0.698925  0.215054  0.086022\n",
              "2    AR  0.603774  0.320755  0.075472\n",
              "3    AZ  0.588430  0.317355  0.094215\n",
              "4    CA  0.586500  0.306296  0.107204"
            ],
            "text/html": [
              "\n",
              "  <div id=\"df-1b77eee3-5588-4cb2-874f-ad7260a9bc84\">\n",
              "    <div class=\"colab-df-container\">\n",
              "      <div>\n",
              "<style scoped>\n",
              "    .dataframe tbody tr th:only-of-type {\n",
              "        vertical-align: middle;\n",
              "    }\n",
              "\n",
              "    .dataframe tbody tr th {\n",
              "        vertical-align: top;\n",
              "    }\n",
              "\n",
              "    .dataframe thead th {\n",
              "        text-align: right;\n",
              "    }\n",
              "</style>\n",
              "<table border=\"1\" class=\"dataframe\">\n",
              "  <thead>\n",
              "    <tr style=\"text-align: right;\">\n",
              "      <th></th>\n",
              "      <th>state</th>\n",
              "      <th>negative</th>\n",
              "      <th>neutral</th>\n",
              "      <th>positive</th>\n",
              "    </tr>\n",
              "  </thead>\n",
              "  <tbody>\n",
              "    <tr>\n",
              "      <th>0</th>\n",
              "      <td>AK</td>\n",
              "      <td>0.611111</td>\n",
              "      <td>0.333333</td>\n",
              "      <td>0.055556</td>\n",
              "    </tr>\n",
              "    <tr>\n",
              "      <th>1</th>\n",
              "      <td>AL</td>\n",
              "      <td>0.698925</td>\n",
              "      <td>0.215054</td>\n",
              "      <td>0.086022</td>\n",
              "    </tr>\n",
              "    <tr>\n",
              "      <th>2</th>\n",
              "      <td>AR</td>\n",
              "      <td>0.603774</td>\n",
              "      <td>0.320755</td>\n",
              "      <td>0.075472</td>\n",
              "    </tr>\n",
              "    <tr>\n",
              "      <th>3</th>\n",
              "      <td>AZ</td>\n",
              "      <td>0.588430</td>\n",
              "      <td>0.317355</td>\n",
              "      <td>0.094215</td>\n",
              "    </tr>\n",
              "    <tr>\n",
              "      <th>4</th>\n",
              "      <td>CA</td>\n",
              "      <td>0.586500</td>\n",
              "      <td>0.306296</td>\n",
              "      <td>0.107204</td>\n",
              "    </tr>\n",
              "  </tbody>\n",
              "</table>\n",
              "</div>\n",
              "      <button class=\"colab-df-convert\" onclick=\"convertToInteractive('df-1b77eee3-5588-4cb2-874f-ad7260a9bc84')\"\n",
              "              title=\"Convert this dataframe to an interactive table.\"\n",
              "              style=\"display:none;\">\n",
              "        \n",
              "  <svg xmlns=\"http://www.w3.org/2000/svg\" height=\"24px\"viewBox=\"0 0 24 24\"\n",
              "       width=\"24px\">\n",
              "    <path d=\"M0 0h24v24H0V0z\" fill=\"none\"/>\n",
              "    <path d=\"M18.56 5.44l.94 2.06.94-2.06 2.06-.94-2.06-.94-.94-2.06-.94 2.06-2.06.94zm-11 1L8.5 8.5l.94-2.06 2.06-.94-2.06-.94L8.5 2.5l-.94 2.06-2.06.94zm10 10l.94 2.06.94-2.06 2.06-.94-2.06-.94-.94-2.06-.94 2.06-2.06.94z\"/><path d=\"M17.41 7.96l-1.37-1.37c-.4-.4-.92-.59-1.43-.59-.52 0-1.04.2-1.43.59L10.3 9.45l-7.72 7.72c-.78.78-.78 2.05 0 2.83L4 21.41c.39.39.9.59 1.41.59.51 0 1.02-.2 1.41-.59l7.78-7.78 2.81-2.81c.8-.78.8-2.07 0-2.86zM5.41 20L4 18.59l7.72-7.72 1.47 1.35L5.41 20z\"/>\n",
              "  </svg>\n",
              "      </button>\n",
              "      \n",
              "  <style>\n",
              "    .colab-df-container {\n",
              "      display:flex;\n",
              "      flex-wrap:wrap;\n",
              "      gap: 12px;\n",
              "    }\n",
              "\n",
              "    .colab-df-convert {\n",
              "      background-color: #E8F0FE;\n",
              "      border: none;\n",
              "      border-radius: 50%;\n",
              "      cursor: pointer;\n",
              "      display: none;\n",
              "      fill: #1967D2;\n",
              "      height: 32px;\n",
              "      padding: 0 0 0 0;\n",
              "      width: 32px;\n",
              "    }\n",
              "\n",
              "    .colab-df-convert:hover {\n",
              "      background-color: #E2EBFA;\n",
              "      box-shadow: 0px 1px 2px rgba(60, 64, 67, 0.3), 0px 1px 3px 1px rgba(60, 64, 67, 0.15);\n",
              "      fill: #174EA6;\n",
              "    }\n",
              "\n",
              "    [theme=dark] .colab-df-convert {\n",
              "      background-color: #3B4455;\n",
              "      fill: #D2E3FC;\n",
              "    }\n",
              "\n",
              "    [theme=dark] .colab-df-convert:hover {\n",
              "      background-color: #434B5C;\n",
              "      box-shadow: 0px 1px 3px 1px rgba(0, 0, 0, 0.15);\n",
              "      filter: drop-shadow(0px 1px 2px rgba(0, 0, 0, 0.3));\n",
              "      fill: #FFFFFF;\n",
              "    }\n",
              "  </style>\n",
              "\n",
              "      <script>\n",
              "        const buttonEl =\n",
              "          document.querySelector('#df-1b77eee3-5588-4cb2-874f-ad7260a9bc84 button.colab-df-convert');\n",
              "        buttonEl.style.display =\n",
              "          google.colab.kernel.accessAllowed ? 'block' : 'none';\n",
              "\n",
              "        async function convertToInteractive(key) {\n",
              "          const element = document.querySelector('#df-1b77eee3-5588-4cb2-874f-ad7260a9bc84');\n",
              "          const dataTable =\n",
              "            await google.colab.kernel.invokeFunction('convertToInteractive',\n",
              "                                                     [key], {});\n",
              "          if (!dataTable) return;\n",
              "\n",
              "          const docLinkHtml = 'Like what you see? Visit the ' +\n",
              "            '<a target=\"_blank\" href=https://colab.research.google.com/notebooks/data_table.ipynb>data table notebook</a>'\n",
              "            + ' to learn more about interactive tables.';\n",
              "          element.innerHTML = '';\n",
              "          dataTable['output_type'] = 'display_data';\n",
              "          await google.colab.output.renderOutput(dataTable, element);\n",
              "          const docLink = document.createElement('div');\n",
              "          docLink.innerHTML = docLinkHtml;\n",
              "          element.appendChild(docLink);\n",
              "        }\n",
              "      </script>\n",
              "    </div>\n",
              "  </div>\n",
              "  "
            ]
          },
          "metadata": {},
          "execution_count": 105
        }
      ]
    },
    {
      "cell_type": "code",
      "source": [
        "fig = px.choropleth(by_state,\n",
        "                    locations='state', \n",
        "                    locationmode=\"USA-states\", \n",
        "                    scope=\"usa\",\n",
        "                    color='negative',\n",
        "                    color_continuous_scale=\"Viridis_r\", \n",
        "                    # range_color=(0,1)\n",
        "                    )\n",
        "fig.show()"
      ],
      "metadata": {
        "colab": {
          "base_uri": "https://localhost:8080/",
          "height": 542
        },
        "id": "5EIAcirIuamy",
        "outputId": "2525281b-4dc9-41e5-f1c9-e470cd59a636"
      },
      "execution_count": null,
      "outputs": [
        {
          "output_type": "display_data",
          "data": {
            "text/html": [
              "<html>\n",
              "<head><meta charset=\"utf-8\" /></head>\n",
              "<body>\n",
              "    <div>            <script src=\"https://cdnjs.cloudflare.com/ajax/libs/mathjax/2.7.5/MathJax.js?config=TeX-AMS-MML_SVG\"></script><script type=\"text/javascript\">if (window.MathJax) {MathJax.Hub.Config({SVG: {font: \"STIX-Web\"}});}</script>                <script type=\"text/javascript\">window.PlotlyConfig = {MathJaxConfig: 'local'};</script>\n",
              "        <script src=\"https://cdn.plot.ly/plotly-2.8.3.min.js\"></script>                <div id=\"1ce95315-6623-4556-ab77-9dff1797efe5\" class=\"plotly-graph-div\" style=\"height:525px; width:100%;\"></div>            <script type=\"text/javascript\">                                    window.PLOTLYENV=window.PLOTLYENV || {};                                    if (document.getElementById(\"1ce95315-6623-4556-ab77-9dff1797efe5\")) {                    Plotly.newPlot(                        \"1ce95315-6623-4556-ab77-9dff1797efe5\",                        [{\"coloraxis\":\"coloraxis\",\"geo\":\"geo\",\"hovertemplate\":\"state=%{location}<br>negative=%{z}<extra></extra>\",\"locationmode\":\"USA-states\",\"locations\":[\"AK\",\"AL\",\"AR\",\"AZ\",\"CA\",\"CO\",\"CT\",\"DC\",\"DE\",\"FL\",\"GA\",\"HI\",\"IA\",\"ID\",\"IL\",\"IN\",\"KS\",\"KY\",\"LA\",\"MA\",\"MD\",\"ME\",\"MI\",\"MN\",\"MO\",\"MS\",\"MT\",\"NC\",\"ND\",\"NE\",\"NH\",\"NJ\",\"NM\",\"NV\",\"NY\",\"OH\",\"OK\",\"OR\",\"PA\",\"RI\",\"SC\",\"SD\",\"TN\",\"TX\",\"UT\",\"VA\",\"VT\",\"WA\",\"WI\",\"WV\",\"WY\",\"an\"],\"name\":\"\",\"z\":[0.6111111111111112,0.6989247311827957,0.6037735849056604,0.5884297520661157,0.5865002836074872,0.5708154506437768,0.5205479452054794,0.42761394101876676,0.75,0.6319862424763543,0.56657223796034,0.5588235294117647,0.5393258426966292,0.6944444444444444,0.570631970260223,0.625,0.5714285714285714,0.5975609756097561,0.6153846153846154,0.42990654205607476,0.5950413223140496,0.5957446808510638,0.5446428571428571,0.6024096385542169,0.5144508670520231,0.6226415094339622,0.7222222222222222,0.5580110497237569,0.6,0.40425531914893614,0.49019607843137253,0.587012987012987,0.5957446808510638,0.5617977528089888,0.5575589459084604,0.5749128919860628,0.7431192660550459,0.5947712418300654,0.5592417061611374,0.41379310344827586,0.5411764705882353,0.5833333333333334,0.5969387755102041,0.5690733371233655,0.4626865671641791,0.5270655270655271,0.41379310344827586,0.6280701754385964,0.6027397260273972,0.5652173913043478,0.8333333333333334,0.6070374574347333],\"type\":\"choropleth\"}],                        {\"template\":{\"data\":{\"bar\":[{\"error_x\":{\"color\":\"#2a3f5f\"},\"error_y\":{\"color\":\"#2a3f5f\"},\"marker\":{\"line\":{\"color\":\"#E5ECF6\",\"width\":0.5},\"pattern\":{\"fillmode\":\"overlay\",\"size\":10,\"solidity\":0.2}},\"type\":\"bar\"}],\"barpolar\":[{\"marker\":{\"line\":{\"color\":\"#E5ECF6\",\"width\":0.5},\"pattern\":{\"fillmode\":\"overlay\",\"size\":10,\"solidity\":0.2}},\"type\":\"barpolar\"}],\"carpet\":[{\"aaxis\":{\"endlinecolor\":\"#2a3f5f\",\"gridcolor\":\"white\",\"linecolor\":\"white\",\"minorgridcolor\":\"white\",\"startlinecolor\":\"#2a3f5f\"},\"baxis\":{\"endlinecolor\":\"#2a3f5f\",\"gridcolor\":\"white\",\"linecolor\":\"white\",\"minorgridcolor\":\"white\",\"startlinecolor\":\"#2a3f5f\"},\"type\":\"carpet\"}],\"choropleth\":[{\"colorbar\":{\"outlinewidth\":0,\"ticks\":\"\"},\"type\":\"choropleth\"}],\"contour\":[{\"colorbar\":{\"outlinewidth\":0,\"ticks\":\"\"},\"colorscale\":[[0.0,\"#0d0887\"],[0.1111111111111111,\"#46039f\"],[0.2222222222222222,\"#7201a8\"],[0.3333333333333333,\"#9c179e\"],[0.4444444444444444,\"#bd3786\"],[0.5555555555555556,\"#d8576b\"],[0.6666666666666666,\"#ed7953\"],[0.7777777777777778,\"#fb9f3a\"],[0.8888888888888888,\"#fdca26\"],[1.0,\"#f0f921\"]],\"type\":\"contour\"}],\"contourcarpet\":[{\"colorbar\":{\"outlinewidth\":0,\"ticks\":\"\"},\"type\":\"contourcarpet\"}],\"heatmap\":[{\"colorbar\":{\"outlinewidth\":0,\"ticks\":\"\"},\"colorscale\":[[0.0,\"#0d0887\"],[0.1111111111111111,\"#46039f\"],[0.2222222222222222,\"#7201a8\"],[0.3333333333333333,\"#9c179e\"],[0.4444444444444444,\"#bd3786\"],[0.5555555555555556,\"#d8576b\"],[0.6666666666666666,\"#ed7953\"],[0.7777777777777778,\"#fb9f3a\"],[0.8888888888888888,\"#fdca26\"],[1.0,\"#f0f921\"]],\"type\":\"heatmap\"}],\"heatmapgl\":[{\"colorbar\":{\"outlinewidth\":0,\"ticks\":\"\"},\"colorscale\":[[0.0,\"#0d0887\"],[0.1111111111111111,\"#46039f\"],[0.2222222222222222,\"#7201a8\"],[0.3333333333333333,\"#9c179e\"],[0.4444444444444444,\"#bd3786\"],[0.5555555555555556,\"#d8576b\"],[0.6666666666666666,\"#ed7953\"],[0.7777777777777778,\"#fb9f3a\"],[0.8888888888888888,\"#fdca26\"],[1.0,\"#f0f921\"]],\"type\":\"heatmapgl\"}],\"histogram\":[{\"marker\":{\"pattern\":{\"fillmode\":\"overlay\",\"size\":10,\"solidity\":0.2}},\"type\":\"histogram\"}],\"histogram2d\":[{\"colorbar\":{\"outlinewidth\":0,\"ticks\":\"\"},\"colorscale\":[[0.0,\"#0d0887\"],[0.1111111111111111,\"#46039f\"],[0.2222222222222222,\"#7201a8\"],[0.3333333333333333,\"#9c179e\"],[0.4444444444444444,\"#bd3786\"],[0.5555555555555556,\"#d8576b\"],[0.6666666666666666,\"#ed7953\"],[0.7777777777777778,\"#fb9f3a\"],[0.8888888888888888,\"#fdca26\"],[1.0,\"#f0f921\"]],\"type\":\"histogram2d\"}],\"histogram2dcontour\":[{\"colorbar\":{\"outlinewidth\":0,\"ticks\":\"\"},\"colorscale\":[[0.0,\"#0d0887\"],[0.1111111111111111,\"#46039f\"],[0.2222222222222222,\"#7201a8\"],[0.3333333333333333,\"#9c179e\"],[0.4444444444444444,\"#bd3786\"],[0.5555555555555556,\"#d8576b\"],[0.6666666666666666,\"#ed7953\"],[0.7777777777777778,\"#fb9f3a\"],[0.8888888888888888,\"#fdca26\"],[1.0,\"#f0f921\"]],\"type\":\"histogram2dcontour\"}],\"mesh3d\":[{\"colorbar\":{\"outlinewidth\":0,\"ticks\":\"\"},\"type\":\"mesh3d\"}],\"parcoords\":[{\"line\":{\"colorbar\":{\"outlinewidth\":0,\"ticks\":\"\"}},\"type\":\"parcoords\"}],\"pie\":[{\"automargin\":true,\"type\":\"pie\"}],\"scatter\":[{\"marker\":{\"colorbar\":{\"outlinewidth\":0,\"ticks\":\"\"}},\"type\":\"scatter\"}],\"scatter3d\":[{\"line\":{\"colorbar\":{\"outlinewidth\":0,\"ticks\":\"\"}},\"marker\":{\"colorbar\":{\"outlinewidth\":0,\"ticks\":\"\"}},\"type\":\"scatter3d\"}],\"scattercarpet\":[{\"marker\":{\"colorbar\":{\"outlinewidth\":0,\"ticks\":\"\"}},\"type\":\"scattercarpet\"}],\"scattergeo\":[{\"marker\":{\"colorbar\":{\"outlinewidth\":0,\"ticks\":\"\"}},\"type\":\"scattergeo\"}],\"scattergl\":[{\"marker\":{\"colorbar\":{\"outlinewidth\":0,\"ticks\":\"\"}},\"type\":\"scattergl\"}],\"scattermapbox\":[{\"marker\":{\"colorbar\":{\"outlinewidth\":0,\"ticks\":\"\"}},\"type\":\"scattermapbox\"}],\"scatterpolar\":[{\"marker\":{\"colorbar\":{\"outlinewidth\":0,\"ticks\":\"\"}},\"type\":\"scatterpolar\"}],\"scatterpolargl\":[{\"marker\":{\"colorbar\":{\"outlinewidth\":0,\"ticks\":\"\"}},\"type\":\"scatterpolargl\"}],\"scatterternary\":[{\"marker\":{\"colorbar\":{\"outlinewidth\":0,\"ticks\":\"\"}},\"type\":\"scatterternary\"}],\"surface\":[{\"colorbar\":{\"outlinewidth\":0,\"ticks\":\"\"},\"colorscale\":[[0.0,\"#0d0887\"],[0.1111111111111111,\"#46039f\"],[0.2222222222222222,\"#7201a8\"],[0.3333333333333333,\"#9c179e\"],[0.4444444444444444,\"#bd3786\"],[0.5555555555555556,\"#d8576b\"],[0.6666666666666666,\"#ed7953\"],[0.7777777777777778,\"#fb9f3a\"],[0.8888888888888888,\"#fdca26\"],[1.0,\"#f0f921\"]],\"type\":\"surface\"}],\"table\":[{\"cells\":{\"fill\":{\"color\":\"#EBF0F8\"},\"line\":{\"color\":\"white\"}},\"header\":{\"fill\":{\"color\":\"#C8D4E3\"},\"line\":{\"color\":\"white\"}},\"type\":\"table\"}]},\"layout\":{\"annotationdefaults\":{\"arrowcolor\":\"#2a3f5f\",\"arrowhead\":0,\"arrowwidth\":1},\"autotypenumbers\":\"strict\",\"coloraxis\":{\"colorbar\":{\"outlinewidth\":0,\"ticks\":\"\"}},\"colorscale\":{\"diverging\":[[0,\"#8e0152\"],[0.1,\"#c51b7d\"],[0.2,\"#de77ae\"],[0.3,\"#f1b6da\"],[0.4,\"#fde0ef\"],[0.5,\"#f7f7f7\"],[0.6,\"#e6f5d0\"],[0.7,\"#b8e186\"],[0.8,\"#7fbc41\"],[0.9,\"#4d9221\"],[1,\"#276419\"]],\"sequential\":[[0.0,\"#0d0887\"],[0.1111111111111111,\"#46039f\"],[0.2222222222222222,\"#7201a8\"],[0.3333333333333333,\"#9c179e\"],[0.4444444444444444,\"#bd3786\"],[0.5555555555555556,\"#d8576b\"],[0.6666666666666666,\"#ed7953\"],[0.7777777777777778,\"#fb9f3a\"],[0.8888888888888888,\"#fdca26\"],[1.0,\"#f0f921\"]],\"sequentialminus\":[[0.0,\"#0d0887\"],[0.1111111111111111,\"#46039f\"],[0.2222222222222222,\"#7201a8\"],[0.3333333333333333,\"#9c179e\"],[0.4444444444444444,\"#bd3786\"],[0.5555555555555556,\"#d8576b\"],[0.6666666666666666,\"#ed7953\"],[0.7777777777777778,\"#fb9f3a\"],[0.8888888888888888,\"#fdca26\"],[1.0,\"#f0f921\"]]},\"colorway\":[\"#636efa\",\"#EF553B\",\"#00cc96\",\"#ab63fa\",\"#FFA15A\",\"#19d3f3\",\"#FF6692\",\"#B6E880\",\"#FF97FF\",\"#FECB52\"],\"font\":{\"color\":\"#2a3f5f\"},\"geo\":{\"bgcolor\":\"white\",\"lakecolor\":\"white\",\"landcolor\":\"#E5ECF6\",\"showlakes\":true,\"showland\":true,\"subunitcolor\":\"white\"},\"hoverlabel\":{\"align\":\"left\"},\"hovermode\":\"closest\",\"mapbox\":{\"style\":\"light\"},\"paper_bgcolor\":\"white\",\"plot_bgcolor\":\"#E5ECF6\",\"polar\":{\"angularaxis\":{\"gridcolor\":\"white\",\"linecolor\":\"white\",\"ticks\":\"\"},\"bgcolor\":\"#E5ECF6\",\"radialaxis\":{\"gridcolor\":\"white\",\"linecolor\":\"white\",\"ticks\":\"\"}},\"scene\":{\"xaxis\":{\"backgroundcolor\":\"#E5ECF6\",\"gridcolor\":\"white\",\"gridwidth\":2,\"linecolor\":\"white\",\"showbackground\":true,\"ticks\":\"\",\"zerolinecolor\":\"white\"},\"yaxis\":{\"backgroundcolor\":\"#E5ECF6\",\"gridcolor\":\"white\",\"gridwidth\":2,\"linecolor\":\"white\",\"showbackground\":true,\"ticks\":\"\",\"zerolinecolor\":\"white\"},\"zaxis\":{\"backgroundcolor\":\"#E5ECF6\",\"gridcolor\":\"white\",\"gridwidth\":2,\"linecolor\":\"white\",\"showbackground\":true,\"ticks\":\"\",\"zerolinecolor\":\"white\"}},\"shapedefaults\":{\"line\":{\"color\":\"#2a3f5f\"}},\"ternary\":{\"aaxis\":{\"gridcolor\":\"white\",\"linecolor\":\"white\",\"ticks\":\"\"},\"baxis\":{\"gridcolor\":\"white\",\"linecolor\":\"white\",\"ticks\":\"\"},\"bgcolor\":\"#E5ECF6\",\"caxis\":{\"gridcolor\":\"white\",\"linecolor\":\"white\",\"ticks\":\"\"}},\"title\":{\"x\":0.05},\"xaxis\":{\"automargin\":true,\"gridcolor\":\"white\",\"linecolor\":\"white\",\"ticks\":\"\",\"title\":{\"standoff\":15},\"zerolinecolor\":\"white\",\"zerolinewidth\":2},\"yaxis\":{\"automargin\":true,\"gridcolor\":\"white\",\"linecolor\":\"white\",\"ticks\":\"\",\"title\":{\"standoff\":15},\"zerolinecolor\":\"white\",\"zerolinewidth\":2}}},\"geo\":{\"domain\":{\"x\":[0.0,1.0],\"y\":[0.0,1.0]},\"center\":{},\"scope\":\"usa\"},\"coloraxis\":{\"colorbar\":{\"title\":{\"text\":\"negative\"}},\"colorscale\":[[0.0,\"#fde725\"],[0.1111111111111111,\"#b5de2b\"],[0.2222222222222222,\"#6ece58\"],[0.3333333333333333,\"#35b779\"],[0.4444444444444444,\"#1f9e89\"],[0.5555555555555556,\"#26828e\"],[0.6666666666666666,\"#31688e\"],[0.7777777777777778,\"#3e4989\"],[0.8888888888888888,\"#482878\"],[1.0,\"#440154\"]]},\"legend\":{\"tracegroupgap\":0},\"margin\":{\"t\":60}},                        {\"responsive\": true}                    ).then(function(){\n",
              "                            \n",
              "var gd = document.getElementById('1ce95315-6623-4556-ab77-9dff1797efe5');\n",
              "var x = new MutationObserver(function (mutations, observer) {{\n",
              "        var display = window.getComputedStyle(gd).display;\n",
              "        if (!display || display === 'none') {{\n",
              "            console.log([gd, 'removed!']);\n",
              "            Plotly.purge(gd);\n",
              "            observer.disconnect();\n",
              "        }}\n",
              "}});\n",
              "\n",
              "// Listen for the removal of the full notebook cells\n",
              "var notebookContainer = gd.closest('#notebook-container');\n",
              "if (notebookContainer) {{\n",
              "    x.observe(notebookContainer, {childList: true});\n",
              "}}\n",
              "\n",
              "// Listen for the clearing of the current output cell\n",
              "var outputEl = gd.closest('.output');\n",
              "if (outputEl) {{\n",
              "    x.observe(outputEl, {childList: true});\n",
              "}}\n",
              "\n",
              "                        })                };                            </script>        </div>\n",
              "</body>\n",
              "</html>"
            ]
          },
          "metadata": {}
        }
      ]
    },
    {
      "cell_type": "markdown",
      "source": [
        "# Save your work"
      ],
      "metadata": {
        "id": "1YHo9oSRH1cY"
      }
    },
    {
      "cell_type": "code",
      "source": [
        "# let's save it to the workspace\n",
        "# this will only save to worksplace and then you have to download it to your local computer.\n",
        "sentiment_df.to_excel(\"roberta_sentiment_scores.xlsx\")"
      ],
      "metadata": {
        "id": "uBASgAM5wS39"
      },
      "execution_count": null,
      "outputs": []
    },
    {
      "cell_type": "markdown",
      "source": [
        "Other things you might try that are related\n",
        "\n",
        "[tag subjectivity of a sentence - a different pipeline](https://spacy.io/universe/project/spacy-textblob)\n",
        "\n",
        "[label emotions](https://huggingface.co/cardiffnlp/twitter-roberta-base-emotion?text=I+like+you.+I+love+you)\n",
        "\n",
        "[topic modeling with BERTTopic](https://www.pinecone.io/learn/bertopic/)\n",
        "\n"
      ],
      "metadata": {
        "id": "L1sD_yntIp9Y"
      }
    }
  ]
}